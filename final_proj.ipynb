{
 "cells": [
  {
   "cell_type": "code",
   "execution_count": 108,
   "metadata": {},
   "outputs": [],
   "source": [
    "import pandas as pd\n",
    "import numpy as np\n",
    "from datetime import date,timedelta\n",
    "import json"
   ]
  },
  {
   "cell_type": "markdown",
   "metadata": {},
   "source": [
    "# parameters for each country"
   ]
  },
  {
   "cell_type": "code",
   "execution_count": 109,
   "metadata": {},
   "outputs": [
    {
     "name": "stderr",
     "output_type": "stream",
     "text": [
      "C:\\anconda3\\lib\\site-packages\\pandas\\core\\indexing.py:205: SettingWithCopyWarning: \n",
      "A value is trying to be set on a copy of a slice from a DataFrame\n",
      "\n",
      "See the caveats in the documentation: http://pandas.pydata.org/pandas-docs/stable/user_guide/indexing.html#returning-a-view-versus-a-copy\n",
      "  self._setitem_with_indexer(indexer, value)\n"
     ]
    },
    {
     "data": {
      "text/html": [
       "<div>\n",
       "<style scoped>\n",
       "    .dataframe tbody tr th:only-of-type {\n",
       "        vertical-align: middle;\n",
       "    }\n",
       "\n",
       "    .dataframe tbody tr th {\n",
       "        vertical-align: top;\n",
       "    }\n",
       "\n",
       "    .dataframe thead th {\n",
       "        text-align: right;\n",
       "    }\n",
       "</style>\n",
       "<table border=\"1\" class=\"dataframe\">\n",
       "  <thead>\n",
       "    <tr style=\"text-align: right;\">\n",
       "      <th></th>\n",
       "      <th>iso_code</th>\n",
       "      <th>continent</th>\n",
       "      <th>location</th>\n",
       "      <th>date</th>\n",
       "      <th>total_cases</th>\n",
       "      <th>new_cases</th>\n",
       "      <th>new_cases_smoothed</th>\n",
       "      <th>total_deaths</th>\n",
       "      <th>new_deaths</th>\n",
       "      <th>new_deaths_smoothed</th>\n",
       "      <th>...</th>\n",
       "      <th>aged_70_older</th>\n",
       "      <th>gdp_per_capita</th>\n",
       "      <th>extreme_poverty</th>\n",
       "      <th>cardiovasc_death_rate</th>\n",
       "      <th>diabetes_prevalence</th>\n",
       "      <th>female_smokers</th>\n",
       "      <th>male_smokers</th>\n",
       "      <th>handwashing_facilities</th>\n",
       "      <th>hospital_beds_per_thousand</th>\n",
       "      <th>life_expectancy</th>\n",
       "    </tr>\n",
       "  </thead>\n",
       "  <tbody>\n",
       "    <tr>\n",
       "      <td>0</td>\n",
       "      <td>AFG</td>\n",
       "      <td>Asia</td>\n",
       "      <td>Afghanistan</td>\n",
       "      <td>2019-12-31</td>\n",
       "      <td>0.0</td>\n",
       "      <td>0.0</td>\n",
       "      <td>NaN</td>\n",
       "      <td>0.0</td>\n",
       "      <td>0.0</td>\n",
       "      <td>NaN</td>\n",
       "      <td>...</td>\n",
       "      <td>1.337</td>\n",
       "      <td>1803.987</td>\n",
       "      <td>NaN</td>\n",
       "      <td>597.029</td>\n",
       "      <td>9.59</td>\n",
       "      <td>NaN</td>\n",
       "      <td>NaN</td>\n",
       "      <td>37.746</td>\n",
       "      <td>0.5</td>\n",
       "      <td>64.83</td>\n",
       "    </tr>\n",
       "    <tr>\n",
       "      <td>1</td>\n",
       "      <td>AFG</td>\n",
       "      <td>Asia</td>\n",
       "      <td>Afghanistan</td>\n",
       "      <td>2020-01-01</td>\n",
       "      <td>0.0</td>\n",
       "      <td>0.0</td>\n",
       "      <td>NaN</td>\n",
       "      <td>0.0</td>\n",
       "      <td>0.0</td>\n",
       "      <td>NaN</td>\n",
       "      <td>...</td>\n",
       "      <td>1.337</td>\n",
       "      <td>1803.987</td>\n",
       "      <td>NaN</td>\n",
       "      <td>597.029</td>\n",
       "      <td>9.59</td>\n",
       "      <td>NaN</td>\n",
       "      <td>NaN</td>\n",
       "      <td>37.746</td>\n",
       "      <td>0.5</td>\n",
       "      <td>64.83</td>\n",
       "    </tr>\n",
       "    <tr>\n",
       "      <td>2</td>\n",
       "      <td>AFG</td>\n",
       "      <td>Asia</td>\n",
       "      <td>Afghanistan</td>\n",
       "      <td>2020-01-02</td>\n",
       "      <td>0.0</td>\n",
       "      <td>0.0</td>\n",
       "      <td>NaN</td>\n",
       "      <td>0.0</td>\n",
       "      <td>0.0</td>\n",
       "      <td>NaN</td>\n",
       "      <td>...</td>\n",
       "      <td>1.337</td>\n",
       "      <td>1803.987</td>\n",
       "      <td>NaN</td>\n",
       "      <td>597.029</td>\n",
       "      <td>9.59</td>\n",
       "      <td>NaN</td>\n",
       "      <td>NaN</td>\n",
       "      <td>37.746</td>\n",
       "      <td>0.5</td>\n",
       "      <td>64.83</td>\n",
       "    </tr>\n",
       "    <tr>\n",
       "      <td>3</td>\n",
       "      <td>AFG</td>\n",
       "      <td>Asia</td>\n",
       "      <td>Afghanistan</td>\n",
       "      <td>2020-01-03</td>\n",
       "      <td>0.0</td>\n",
       "      <td>0.0</td>\n",
       "      <td>NaN</td>\n",
       "      <td>0.0</td>\n",
       "      <td>0.0</td>\n",
       "      <td>NaN</td>\n",
       "      <td>...</td>\n",
       "      <td>1.337</td>\n",
       "      <td>1803.987</td>\n",
       "      <td>NaN</td>\n",
       "      <td>597.029</td>\n",
       "      <td>9.59</td>\n",
       "      <td>NaN</td>\n",
       "      <td>NaN</td>\n",
       "      <td>37.746</td>\n",
       "      <td>0.5</td>\n",
       "      <td>64.83</td>\n",
       "    </tr>\n",
       "    <tr>\n",
       "      <td>4</td>\n",
       "      <td>AFG</td>\n",
       "      <td>Asia</td>\n",
       "      <td>Afghanistan</td>\n",
       "      <td>2020-01-04</td>\n",
       "      <td>0.0</td>\n",
       "      <td>0.0</td>\n",
       "      <td>NaN</td>\n",
       "      <td>0.0</td>\n",
       "      <td>0.0</td>\n",
       "      <td>NaN</td>\n",
       "      <td>...</td>\n",
       "      <td>1.337</td>\n",
       "      <td>1803.987</td>\n",
       "      <td>NaN</td>\n",
       "      <td>597.029</td>\n",
       "      <td>9.59</td>\n",
       "      <td>NaN</td>\n",
       "      <td>NaN</td>\n",
       "      <td>37.746</td>\n",
       "      <td>0.5</td>\n",
       "      <td>64.83</td>\n",
       "    </tr>\n",
       "  </tbody>\n",
       "</table>\n",
       "<p>5 rows × 40 columns</p>\n",
       "</div>"
      ],
      "text/plain": [
       "  iso_code continent     location        date  total_cases  new_cases  \\\n",
       "0      AFG      Asia  Afghanistan  2019-12-31          0.0        0.0   \n",
       "1      AFG      Asia  Afghanistan  2020-01-01          0.0        0.0   \n",
       "2      AFG      Asia  Afghanistan  2020-01-02          0.0        0.0   \n",
       "3      AFG      Asia  Afghanistan  2020-01-03          0.0        0.0   \n",
       "4      AFG      Asia  Afghanistan  2020-01-04          0.0        0.0   \n",
       "\n",
       "   new_cases_smoothed  total_deaths  new_deaths  new_deaths_smoothed  ...  \\\n",
       "0                 NaN           0.0         0.0                  NaN  ...   \n",
       "1                 NaN           0.0         0.0                  NaN  ...   \n",
       "2                 NaN           0.0         0.0                  NaN  ...   \n",
       "3                 NaN           0.0         0.0                  NaN  ...   \n",
       "4                 NaN           0.0         0.0                  NaN  ...   \n",
       "\n",
       "   aged_70_older  gdp_per_capita  extreme_poverty  cardiovasc_death_rate  \\\n",
       "0          1.337        1803.987              NaN                597.029   \n",
       "1          1.337        1803.987              NaN                597.029   \n",
       "2          1.337        1803.987              NaN                597.029   \n",
       "3          1.337        1803.987              NaN                597.029   \n",
       "4          1.337        1803.987              NaN                597.029   \n",
       "\n",
       "   diabetes_prevalence  female_smokers  male_smokers  handwashing_facilities  \\\n",
       "0                 9.59             NaN           NaN                  37.746   \n",
       "1                 9.59             NaN           NaN                  37.746   \n",
       "2                 9.59             NaN           NaN                  37.746   \n",
       "3                 9.59             NaN           NaN                  37.746   \n",
       "4                 9.59             NaN           NaN                  37.746   \n",
       "\n",
       "   hospital_beds_per_thousand  life_expectancy  \n",
       "0                         0.5            64.83  \n",
       "1                         0.5            64.83  \n",
       "2                         0.5            64.83  \n",
       "3                         0.5            64.83  \n",
       "4                         0.5            64.83  \n",
       "\n",
       "[5 rows x 40 columns]"
      ]
     },
     "execution_count": 109,
     "metadata": {},
     "output_type": "execute_result"
    }
   ],
   "source": [
    "url='https://raw.githubusercontent.com/owid/covid-19-data/master/public/data/owid-covid-data.csv'\n",
    "data_covid_full = pd.read_csv(url)\n",
    "for i in range(len(data_covid_full)):\n",
    "    data_covid_full['location'].iloc[i]=data_covid_full.iloc[i]['location'].replace(' ','_')\n",
    "data_covid_full.head()"
   ]
  },
  {
   "cell_type": "code",
   "execution_count": 112,
   "metadata": {},
   "outputs": [
    {
     "data": {
      "text/plain": [
       "Index(['iso_code', 'continent', 'location', 'date', 'total_cases', 'new_cases',\n",
       "       'new_cases_smoothed', 'total_deaths', 'new_deaths',\n",
       "       'new_deaths_smoothed', 'total_cases_per_million',\n",
       "       'new_cases_per_million', 'new_cases_smoothed_per_million',\n",
       "       'total_deaths_per_million', 'new_deaths_per_million',\n",
       "       'new_deaths_smoothed_per_million', 'new_tests', 'total_tests',\n",
       "       'total_tests_per_thousand', 'new_tests_per_thousand',\n",
       "       'new_tests_smoothed', 'new_tests_smoothed_per_thousand',\n",
       "       'tests_per_case', 'positive_rate', 'tests_units', 'stringency_index',\n",
       "       'population', 'population_density', 'median_age', 'aged_65_older',\n",
       "       'aged_70_older', 'gdp_per_capita', 'extreme_poverty',\n",
       "       'cardiovasc_death_rate', 'diabetes_prevalence', 'female_smokers',\n",
       "       'male_smokers', 'handwashing_facilities', 'hospital_beds_per_thousand',\n",
       "       'life_expectancy'],\n",
       "      dtype='object')"
      ]
     },
     "execution_count": 112,
     "metadata": {},
     "output_type": "execute_result"
    }
   ],
   "source": [
    "data_covid_full.columns"
   ]
  },
  {
   "cell_type": "code",
   "execution_count": 127,
   "metadata": {},
   "outputs": [
    {
     "data": {
      "text/html": [
       "<div>\n",
       "<style scoped>\n",
       "    .dataframe tbody tr th:only-of-type {\n",
       "        vertical-align: middle;\n",
       "    }\n",
       "\n",
       "    .dataframe tbody tr th {\n",
       "        vertical-align: top;\n",
       "    }\n",
       "\n",
       "    .dataframe thead th {\n",
       "        text-align: right;\n",
       "    }\n",
       "</style>\n",
       "<table border=\"1\" class=\"dataframe\">\n",
       "  <thead>\n",
       "    <tr style=\"text-align: right;\">\n",
       "      <th></th>\n",
       "      <th>iso_code</th>\n",
       "      <th>continent</th>\n",
       "      <th>total_deaths</th>\n",
       "      <th>total_deaths_per_million</th>\n",
       "      <th>stringency_index</th>\n",
       "      <th>population</th>\n",
       "      <th>population_density</th>\n",
       "      <th>median_age</th>\n",
       "      <th>aged_65_older</th>\n",
       "      <th>aged_70_older</th>\n",
       "      <th>gdp_per_capita</th>\n",
       "      <th>extreme_poverty</th>\n",
       "      <th>diabetes_prevalence</th>\n",
       "      <th>female_smokers</th>\n",
       "      <th>male_smokers</th>\n",
       "      <th>hospital_beds_per_thousand</th>\n",
       "      <th>life_expectancy</th>\n",
       "    </tr>\n",
       "    <tr>\n",
       "      <th>location</th>\n",
       "      <th></th>\n",
       "      <th></th>\n",
       "      <th></th>\n",
       "      <th></th>\n",
       "      <th></th>\n",
       "      <th></th>\n",
       "      <th></th>\n",
       "      <th></th>\n",
       "      <th></th>\n",
       "      <th></th>\n",
       "      <th></th>\n",
       "      <th></th>\n",
       "      <th></th>\n",
       "      <th></th>\n",
       "      <th></th>\n",
       "      <th></th>\n",
       "      <th></th>\n",
       "    </tr>\n",
       "  </thead>\n",
       "  <tbody>\n",
       "    <tr>\n",
       "      <td>Afghanistan</td>\n",
       "      <td>AFG</td>\n",
       "      <td>Asia</td>\n",
       "      <td>1401.0</td>\n",
       "      <td>35.989</td>\n",
       "      <td>84.26</td>\n",
       "      <td>38928341.0</td>\n",
       "      <td>54.422</td>\n",
       "      <td>18.6</td>\n",
       "      <td>2.581</td>\n",
       "      <td>1.337</td>\n",
       "      <td>1803.987</td>\n",
       "      <td>NaN</td>\n",
       "      <td>9.59</td>\n",
       "      <td>NaN</td>\n",
       "      <td>NaN</td>\n",
       "      <td>0.50</td>\n",
       "      <td>64.83</td>\n",
       "    </tr>\n",
       "    <tr>\n",
       "      <td>Albania</td>\n",
       "      <td>ALB</td>\n",
       "      <td>Europe</td>\n",
       "      <td>266.0</td>\n",
       "      <td>92.432</td>\n",
       "      <td>89.81</td>\n",
       "      <td>2877800.0</td>\n",
       "      <td>104.871</td>\n",
       "      <td>38.0</td>\n",
       "      <td>13.188</td>\n",
       "      <td>8.643</td>\n",
       "      <td>11803.431</td>\n",
       "      <td>1.1</td>\n",
       "      <td>10.08</td>\n",
       "      <td>7.1</td>\n",
       "      <td>51.2</td>\n",
       "      <td>2.89</td>\n",
       "      <td>78.57</td>\n",
       "    </tr>\n",
       "    <tr>\n",
       "      <td>Algeria</td>\n",
       "      <td>DZA</td>\n",
       "      <td>Africa</td>\n",
       "      <td>1475.0</td>\n",
       "      <td>33.637</td>\n",
       "      <td>92.13</td>\n",
       "      <td>43851043.0</td>\n",
       "      <td>17.348</td>\n",
       "      <td>29.1</td>\n",
       "      <td>6.211</td>\n",
       "      <td>3.857</td>\n",
       "      <td>13913.839</td>\n",
       "      <td>0.5</td>\n",
       "      <td>6.73</td>\n",
       "      <td>0.7</td>\n",
       "      <td>30.4</td>\n",
       "      <td>1.90</td>\n",
       "      <td>76.88</td>\n",
       "    </tr>\n",
       "    <tr>\n",
       "      <td>Andorra</td>\n",
       "      <td>AND</td>\n",
       "      <td>Europe</td>\n",
       "      <td>53.0</td>\n",
       "      <td>685.951</td>\n",
       "      <td>56.48</td>\n",
       "      <td>77265.0</td>\n",
       "      <td>163.755</td>\n",
       "      <td>NaN</td>\n",
       "      <td>NaN</td>\n",
       "      <td>NaN</td>\n",
       "      <td>NaN</td>\n",
       "      <td>NaN</td>\n",
       "      <td>7.97</td>\n",
       "      <td>29.0</td>\n",
       "      <td>37.8</td>\n",
       "      <td>NaN</td>\n",
       "      <td>83.73</td>\n",
       "    </tr>\n",
       "    <tr>\n",
       "      <td>Angola</td>\n",
       "      <td>AGO</td>\n",
       "      <td>Africa</td>\n",
       "      <td>105.0</td>\n",
       "      <td>3.195</td>\n",
       "      <td>90.74</td>\n",
       "      <td>32866268.0</td>\n",
       "      <td>23.890</td>\n",
       "      <td>16.8</td>\n",
       "      <td>2.405</td>\n",
       "      <td>1.362</td>\n",
       "      <td>5819.495</td>\n",
       "      <td>NaN</td>\n",
       "      <td>3.94</td>\n",
       "      <td>NaN</td>\n",
       "      <td>NaN</td>\n",
       "      <td>NaN</td>\n",
       "      <td>61.15</td>\n",
       "    </tr>\n",
       "    <tr>\n",
       "      <td>Anguilla</td>\n",
       "      <td>AIA</td>\n",
       "      <td>North America</td>\n",
       "      <td>0.0</td>\n",
       "      <td>0.000</td>\n",
       "      <td>82.41</td>\n",
       "      <td>15002.0</td>\n",
       "      <td>NaN</td>\n",
       "      <td>NaN</td>\n",
       "      <td>NaN</td>\n",
       "      <td>NaN</td>\n",
       "      <td>NaN</td>\n",
       "      <td>NaN</td>\n",
       "      <td>NaN</td>\n",
       "      <td>NaN</td>\n",
       "      <td>NaN</td>\n",
       "      <td>NaN</td>\n",
       "      <td>81.88</td>\n",
       "    </tr>\n",
       "    <tr>\n",
       "      <td>Antigua_and_Barbuda</td>\n",
       "      <td>ATG</td>\n",
       "      <td>North America</td>\n",
       "      <td>3.0</td>\n",
       "      <td>30.635</td>\n",
       "      <td>NaN</td>\n",
       "      <td>97928.0</td>\n",
       "      <td>231.845</td>\n",
       "      <td>32.1</td>\n",
       "      <td>6.933</td>\n",
       "      <td>4.631</td>\n",
       "      <td>21490.943</td>\n",
       "      <td>NaN</td>\n",
       "      <td>13.17</td>\n",
       "      <td>NaN</td>\n",
       "      <td>NaN</td>\n",
       "      <td>3.80</td>\n",
       "      <td>77.02</td>\n",
       "    </tr>\n",
       "    <tr>\n",
       "      <td>Argentina</td>\n",
       "      <td>ARG</td>\n",
       "      <td>South America</td>\n",
       "      <td>7944.0</td>\n",
       "      <td>175.769</td>\n",
       "      <td>100.00</td>\n",
       "      <td>45195777.0</td>\n",
       "      <td>16.177</td>\n",
       "      <td>31.9</td>\n",
       "      <td>11.198</td>\n",
       "      <td>7.441</td>\n",
       "      <td>18933.907</td>\n",
       "      <td>0.6</td>\n",
       "      <td>5.50</td>\n",
       "      <td>16.2</td>\n",
       "      <td>27.7</td>\n",
       "      <td>5.00</td>\n",
       "      <td>76.67</td>\n",
       "    </tr>\n",
       "    <tr>\n",
       "      <td>Armenia</td>\n",
       "      <td>ARM</td>\n",
       "      <td>Asia</td>\n",
       "      <td>864.0</td>\n",
       "      <td>291.573</td>\n",
       "      <td>NaN</td>\n",
       "      <td>2963234.0</td>\n",
       "      <td>102.931</td>\n",
       "      <td>35.7</td>\n",
       "      <td>11.232</td>\n",
       "      <td>7.571</td>\n",
       "      <td>8787.580</td>\n",
       "      <td>1.8</td>\n",
       "      <td>7.11</td>\n",
       "      <td>1.5</td>\n",
       "      <td>52.1</td>\n",
       "      <td>4.20</td>\n",
       "      <td>75.09</td>\n",
       "    </tr>\n",
       "    <tr>\n",
       "      <td>Aruba</td>\n",
       "      <td>ABW</td>\n",
       "      <td>North America</td>\n",
       "      <td>8.0</td>\n",
       "      <td>74.930</td>\n",
       "      <td>88.89</td>\n",
       "      <td>106766.0</td>\n",
       "      <td>584.800</td>\n",
       "      <td>41.2</td>\n",
       "      <td>13.085</td>\n",
       "      <td>7.452</td>\n",
       "      <td>35973.781</td>\n",
       "      <td>NaN</td>\n",
       "      <td>11.62</td>\n",
       "      <td>NaN</td>\n",
       "      <td>NaN</td>\n",
       "      <td>NaN</td>\n",
       "      <td>76.29</td>\n",
       "    </tr>\n",
       "  </tbody>\n",
       "</table>\n",
       "</div>"
      ],
      "text/plain": [
       "                    iso_code      continent  total_deaths  \\\n",
       "location                                                    \n",
       "Afghanistan              AFG           Asia        1401.0   \n",
       "Albania                  ALB         Europe         266.0   \n",
       "Algeria                  DZA         Africa        1475.0   \n",
       "Andorra                  AND         Europe          53.0   \n",
       "Angola                   AGO         Africa         105.0   \n",
       "Anguilla                 AIA  North America           0.0   \n",
       "Antigua_and_Barbuda      ATG  North America           3.0   \n",
       "Argentina                ARG  South America        7944.0   \n",
       "Armenia                  ARM           Asia         864.0   \n",
       "Aruba                    ABW  North America           8.0   \n",
       "\n",
       "                     total_deaths_per_million  stringency_index  population  \\\n",
       "location                                                                      \n",
       "Afghanistan                            35.989             84.26  38928341.0   \n",
       "Albania                                92.432             89.81   2877800.0   \n",
       "Algeria                                33.637             92.13  43851043.0   \n",
       "Andorra                               685.951             56.48     77265.0   \n",
       "Angola                                  3.195             90.74  32866268.0   \n",
       "Anguilla                                0.000             82.41     15002.0   \n",
       "Antigua_and_Barbuda                    30.635               NaN     97928.0   \n",
       "Argentina                             175.769            100.00  45195777.0   \n",
       "Armenia                               291.573               NaN   2963234.0   \n",
       "Aruba                                  74.930             88.89    106766.0   \n",
       "\n",
       "                     population_density  median_age  aged_65_older  \\\n",
       "location                                                             \n",
       "Afghanistan                      54.422        18.6          2.581   \n",
       "Albania                         104.871        38.0         13.188   \n",
       "Algeria                          17.348        29.1          6.211   \n",
       "Andorra                         163.755         NaN            NaN   \n",
       "Angola                           23.890        16.8          2.405   \n",
       "Anguilla                            NaN         NaN            NaN   \n",
       "Antigua_and_Barbuda             231.845        32.1          6.933   \n",
       "Argentina                        16.177        31.9         11.198   \n",
       "Armenia                         102.931        35.7         11.232   \n",
       "Aruba                           584.800        41.2         13.085   \n",
       "\n",
       "                     aged_70_older  gdp_per_capita  extreme_poverty  \\\n",
       "location                                                              \n",
       "Afghanistan                  1.337        1803.987              NaN   \n",
       "Albania                      8.643       11803.431              1.1   \n",
       "Algeria                      3.857       13913.839              0.5   \n",
       "Andorra                        NaN             NaN              NaN   \n",
       "Angola                       1.362        5819.495              NaN   \n",
       "Anguilla                       NaN             NaN              NaN   \n",
       "Antigua_and_Barbuda          4.631       21490.943              NaN   \n",
       "Argentina                    7.441       18933.907              0.6   \n",
       "Armenia                      7.571        8787.580              1.8   \n",
       "Aruba                        7.452       35973.781              NaN   \n",
       "\n",
       "                     diabetes_prevalence  female_smokers  male_smokers  \\\n",
       "location                                                                 \n",
       "Afghanistan                         9.59             NaN           NaN   \n",
       "Albania                            10.08             7.1          51.2   \n",
       "Algeria                             6.73             0.7          30.4   \n",
       "Andorra                             7.97            29.0          37.8   \n",
       "Angola                              3.94             NaN           NaN   \n",
       "Anguilla                             NaN             NaN           NaN   \n",
       "Antigua_and_Barbuda                13.17             NaN           NaN   \n",
       "Argentina                           5.50            16.2          27.7   \n",
       "Armenia                             7.11             1.5          52.1   \n",
       "Aruba                              11.62             NaN           NaN   \n",
       "\n",
       "                     hospital_beds_per_thousand  life_expectancy  \n",
       "location                                                          \n",
       "Afghanistan                                0.50            64.83  \n",
       "Albania                                    2.89            78.57  \n",
       "Algeria                                    1.90            76.88  \n",
       "Andorra                                     NaN            83.73  \n",
       "Angola                                      NaN            61.15  \n",
       "Anguilla                                    NaN            81.88  \n",
       "Antigua_and_Barbuda                        3.80            77.02  \n",
       "Argentina                                  5.00            76.67  \n",
       "Armenia                                    4.20            75.09  \n",
       "Aruba                                       NaN            76.29  "
      ]
     },
     "execution_count": 127,
     "metadata": {},
     "output_type": "execute_result"
    }
   ],
   "source": [
    "countries_para=data_covid_full.groupby('location')[['iso_code','continent','total_deaths','total_deaths_per_million',\\\n",
    "                                       'stringency_index', 'population', 'population_density', 'median_age',\\\n",
    "       'aged_65_older', 'aged_70_older', 'gdp_per_capita', 'extreme_poverty'\\\n",
    "       , 'diabetes_prevalence', 'female_smokers',\\\n",
    "       'male_smokers', 'hospital_beds_per_thousand',\\\n",
    "       'life_expectancy' ]].agg('max')\n",
    "countries_para.head(10)"
   ]
  },
  {
   "cell_type": "code",
   "execution_count": 128,
   "metadata": {},
   "outputs": [
    {
     "data": {
      "text/html": [
       "<div>\n",
       "<style scoped>\n",
       "    .dataframe tbody tr th:only-of-type {\n",
       "        vertical-align: middle;\n",
       "    }\n",
       "\n",
       "    .dataframe tbody tr th {\n",
       "        vertical-align: top;\n",
       "    }\n",
       "\n",
       "    .dataframe thead th {\n",
       "        text-align: right;\n",
       "    }\n",
       "</style>\n",
       "<table border=\"1\" class=\"dataframe\">\n",
       "  <thead>\n",
       "    <tr style=\"text-align: right;\">\n",
       "      <th></th>\n",
       "      <th>total_deaths</th>\n",
       "      <th>total_deaths_per_million</th>\n",
       "      <th>stringency_index</th>\n",
       "      <th>population</th>\n",
       "      <th>population_density</th>\n",
       "      <th>median_age</th>\n",
       "      <th>aged_65_older</th>\n",
       "      <th>aged_70_older</th>\n",
       "      <th>gdp_per_capita</th>\n",
       "      <th>extreme_poverty</th>\n",
       "      <th>diabetes_prevalence</th>\n",
       "      <th>female_smokers</th>\n",
       "      <th>male_smokers</th>\n",
       "      <th>hospital_beds_per_thousand</th>\n",
       "      <th>life_expectancy</th>\n",
       "    </tr>\n",
       "  </thead>\n",
       "  <tbody>\n",
       "    <tr>\n",
       "      <td>count</td>\n",
       "      <td>211.000000</td>\n",
       "      <td>210.000000</td>\n",
       "      <td>180.000000</td>\n",
       "      <td>2.110000e+02</td>\n",
       "      <td>200.000000</td>\n",
       "      <td>187.000000</td>\n",
       "      <td>184.000000</td>\n",
       "      <td>186.000000</td>\n",
       "      <td>184.000000</td>\n",
       "      <td>122.000000</td>\n",
       "      <td>194.000000</td>\n",
       "      <td>141.000000</td>\n",
       "      <td>139.000000</td>\n",
       "      <td>165.000000</td>\n",
       "      <td>208.000000</td>\n",
       "    </tr>\n",
       "    <tr>\n",
       "      <td>mean</td>\n",
       "      <td>7888.374408</td>\n",
       "      <td>102.034705</td>\n",
       "      <td>83.197444</td>\n",
       "      <td>7.370985e+07</td>\n",
       "      <td>360.369760</td>\n",
       "      <td>30.629412</td>\n",
       "      <td>8.847957</td>\n",
       "      <td>5.564237</td>\n",
       "      <td>19464.082478</td>\n",
       "      <td>13.830328</td>\n",
       "      <td>8.065567</td>\n",
       "      <td>10.413007</td>\n",
       "      <td>32.636223</td>\n",
       "      <td>3.010806</td>\n",
       "      <td>73.525288</td>\n",
       "    </tr>\n",
       "    <tr>\n",
       "      <td>std</td>\n",
       "      <td>59414.383258</td>\n",
       "      <td>178.425428</td>\n",
       "      <td>14.309436</td>\n",
       "      <td>5.526716e+08</td>\n",
       "      <td>1573.678206</td>\n",
       "      <td>9.108589</td>\n",
       "      <td>6.196086</td>\n",
       "      <td>4.205258</td>\n",
       "      <td>19768.790977</td>\n",
       "      <td>20.453616</td>\n",
       "      <td>4.234085</td>\n",
       "      <td>10.448330</td>\n",
       "      <td>13.660474</td>\n",
       "      <td>2.457507</td>\n",
       "      <td>7.542061</td>\n",
       "    </tr>\n",
       "    <tr>\n",
       "      <td>min</td>\n",
       "      <td>0.000000</td>\n",
       "      <td>0.000000</td>\n",
       "      <td>16.670000</td>\n",
       "      <td>8.090000e+02</td>\n",
       "      <td>0.137000</td>\n",
       "      <td>15.100000</td>\n",
       "      <td>1.144000</td>\n",
       "      <td>0.526000</td>\n",
       "      <td>661.240000</td>\n",
       "      <td>0.100000</td>\n",
       "      <td>0.990000</td>\n",
       "      <td>0.100000</td>\n",
       "      <td>7.700000</td>\n",
       "      <td>0.100000</td>\n",
       "      <td>53.280000</td>\n",
       "    </tr>\n",
       "    <tr>\n",
       "      <td>25%</td>\n",
       "      <td>15.000000</td>\n",
       "      <td>5.779750</td>\n",
       "      <td>77.780000</td>\n",
       "      <td>1.074083e+06</td>\n",
       "      <td>37.624000</td>\n",
       "      <td>22.300000</td>\n",
       "      <td>3.459750</td>\n",
       "      <td>2.041250</td>\n",
       "      <td>4522.973000</td>\n",
       "      <td>0.600000</td>\n",
       "      <td>5.310000</td>\n",
       "      <td>1.900000</td>\n",
       "      <td>21.500000</td>\n",
       "      <td>1.300000</td>\n",
       "      <td>69.380000</td>\n",
       "    </tr>\n",
       "    <tr>\n",
       "      <td>50%</td>\n",
       "      <td>105.000000</td>\n",
       "      <td>27.917500</td>\n",
       "      <td>86.110000</td>\n",
       "      <td>6.948445e+06</td>\n",
       "      <td>87.250000</td>\n",
       "      <td>30.600000</td>\n",
       "      <td>6.736500</td>\n",
       "      <td>4.062000</td>\n",
       "      <td>13183.081500</td>\n",
       "      <td>2.200000</td>\n",
       "      <td>7.155000</td>\n",
       "      <td>6.200000</td>\n",
       "      <td>31.400000</td>\n",
       "      <td>2.397000</td>\n",
       "      <td>75.070000</td>\n",
       "    </tr>\n",
       "    <tr>\n",
       "      <td>75%</td>\n",
       "      <td>784.000000</td>\n",
       "      <td>110.044000</td>\n",
       "      <td>93.520000</td>\n",
       "      <td>2.646207e+07</td>\n",
       "      <td>213.880000</td>\n",
       "      <td>38.900000</td>\n",
       "      <td>14.341750</td>\n",
       "      <td>9.044750</td>\n",
       "      <td>28143.439750</td>\n",
       "      <td>21.350000</td>\n",
       "      <td>10.420000</td>\n",
       "      <td>19.100000</td>\n",
       "      <td>41.200000</td>\n",
       "      <td>3.861000</td>\n",
       "      <td>78.935000</td>\n",
       "    </tr>\n",
       "    <tr>\n",
       "      <td>max</td>\n",
       "      <td>832002.000000</td>\n",
       "      <td>1237.551000</td>\n",
       "      <td>100.000000</td>\n",
       "      <td>7.794799e+09</td>\n",
       "      <td>19347.500000</td>\n",
       "      <td>48.200000</td>\n",
       "      <td>27.049000</td>\n",
       "      <td>18.493000</td>\n",
       "      <td>116935.600000</td>\n",
       "      <td>77.600000</td>\n",
       "      <td>23.360000</td>\n",
       "      <td>44.000000</td>\n",
       "      <td>78.100000</td>\n",
       "      <td>13.800000</td>\n",
       "      <td>86.750000</td>\n",
       "    </tr>\n",
       "  </tbody>\n",
       "</table>\n",
       "</div>"
      ],
      "text/plain": [
       "        total_deaths  total_deaths_per_million  stringency_index  \\\n",
       "count     211.000000                210.000000        180.000000   \n",
       "mean     7888.374408                102.034705         83.197444   \n",
       "std     59414.383258                178.425428         14.309436   \n",
       "min         0.000000                  0.000000         16.670000   \n",
       "25%        15.000000                  5.779750         77.780000   \n",
       "50%       105.000000                 27.917500         86.110000   \n",
       "75%       784.000000                110.044000         93.520000   \n",
       "max    832002.000000               1237.551000        100.000000   \n",
       "\n",
       "         population  population_density  median_age  aged_65_older  \\\n",
       "count  2.110000e+02          200.000000  187.000000     184.000000   \n",
       "mean   7.370985e+07          360.369760   30.629412       8.847957   \n",
       "std    5.526716e+08         1573.678206    9.108589       6.196086   \n",
       "min    8.090000e+02            0.137000   15.100000       1.144000   \n",
       "25%    1.074083e+06           37.624000   22.300000       3.459750   \n",
       "50%    6.948445e+06           87.250000   30.600000       6.736500   \n",
       "75%    2.646207e+07          213.880000   38.900000      14.341750   \n",
       "max    7.794799e+09        19347.500000   48.200000      27.049000   \n",
       "\n",
       "       aged_70_older  gdp_per_capita  extreme_poverty  diabetes_prevalence  \\\n",
       "count     186.000000      184.000000       122.000000           194.000000   \n",
       "mean        5.564237    19464.082478        13.830328             8.065567   \n",
       "std         4.205258    19768.790977        20.453616             4.234085   \n",
       "min         0.526000      661.240000         0.100000             0.990000   \n",
       "25%         2.041250     4522.973000         0.600000             5.310000   \n",
       "50%         4.062000    13183.081500         2.200000             7.155000   \n",
       "75%         9.044750    28143.439750        21.350000            10.420000   \n",
       "max        18.493000   116935.600000        77.600000            23.360000   \n",
       "\n",
       "       female_smokers  male_smokers  hospital_beds_per_thousand  \\\n",
       "count      141.000000    139.000000                  165.000000   \n",
       "mean        10.413007     32.636223                    3.010806   \n",
       "std         10.448330     13.660474                    2.457507   \n",
       "min          0.100000      7.700000                    0.100000   \n",
       "25%          1.900000     21.500000                    1.300000   \n",
       "50%          6.200000     31.400000                    2.397000   \n",
       "75%         19.100000     41.200000                    3.861000   \n",
       "max         44.000000     78.100000                   13.800000   \n",
       "\n",
       "       life_expectancy  \n",
       "count       208.000000  \n",
       "mean         73.525288  \n",
       "std           7.542061  \n",
       "min          53.280000  \n",
       "25%          69.380000  \n",
       "50%          75.070000  \n",
       "75%          78.935000  \n",
       "max          86.750000  "
      ]
     },
     "execution_count": 128,
     "metadata": {},
     "output_type": "execute_result"
    }
   ],
   "source": [
    "countries_para.describe()"
   ]
  },
  {
   "cell_type": "code",
   "execution_count": 172,
   "metadata": {},
   "outputs": [
    {
     "name": "stdout",
     "output_type": "stream",
     "text": [
      "<class 'pandas.core.frame.DataFrame'>\n",
      "Index: 212 entries, Afghanistan to Zimbabwe\n",
      "Data columns (total 18 columns):\n",
      "iso_code                      211 non-null object\n",
      "continent                     210 non-null object\n",
      "total_deaths                  211 non-null float64\n",
      "total_deaths_per_million      210 non-null float64\n",
      "stringency_index              180 non-null float64\n",
      "population                    211 non-null float64\n",
      "population_density            200 non-null float64\n",
      "median_age                    187 non-null float64\n",
      "aged_65_older                 184 non-null float64\n",
      "aged_70_older                 186 non-null float64\n",
      "gdp_per_capita                184 non-null float64\n",
      "extreme_poverty               170 non-null object\n",
      "diabetes_prevalence           194 non-null float64\n",
      "female_smokers                141 non-null float64\n",
      "male_smokers                  139 non-null float64\n",
      "hospital_beds_per_thousand    180 non-null float64\n",
      "life_expectancy               208 non-null float64\n",
      "smoking_d                     156 non-null float64\n",
      "dtypes: float64(15), object(3)\n",
      "memory usage: 41.5+ KB\n"
     ]
    }
   ],
   "source": [
    "countries_para.info()"
   ]
  },
  {
   "cell_type": "code",
   "execution_count": 131,
   "metadata": {},
   "outputs": [
    {
     "name": "stdout",
     "output_type": "stream",
     "text": [
      "Africa\n",
      "Africa\n",
      "Africa\n",
      "Africa\n",
      "Africa\n",
      "Africa\n"
     ]
    }
   ],
   "source": [
    "c=[]\n",
    "for i in range(len(countries_para.index)):\n",
    "    if countries_para.iloc[i].isnull().values.any() == True:\n",
    "        if countries_para.drop(['hospital_beds_per_thousand'],axis=1).iloc[i].isnull().values.any() == False:\n",
    "            c.append(i)\n",
    "for j in range(len(c)):\n",
    "    print(countries_para.iloc[c[j]]['continent'])"
   ]
  },
  {
   "cell_type": "code",
   "execution_count": 133,
   "metadata": {},
   "outputs": [],
   "source": [
    "mean_beds_in_africa = countries_para[countries_para.continent=='Africa']['hospital_beds_per_thousand'].mean()\n",
    "countries_para[countries_para.continent == 'Africa'] = countries_para.replace({'hospital_beds_per_thousand':np.nan}, mean_beds_in_africa)"
   ]
  },
  {
   "cell_type": "code",
   "execution_count": 134,
   "metadata": {},
   "outputs": [],
   "source": [
    "countries_para.to_csv('covid_database')"
   ]
  },
  {
   "cell_type": "markdown",
   "metadata": {},
   "source": [
    "adding parameters"
   ]
  },
  {
   "cell_type": "code",
   "execution_count": 135,
   "metadata": {},
   "outputs": [],
   "source": [
    "from selenium import webdriver"
   ]
  },
  {
   "cell_type": "code",
   "execution_count": 157,
   "metadata": {},
   "outputs": [],
   "source": [
    "driver = webdriver.Chrome()"
   ]
  },
  {
   "cell_type": "markdown",
   "metadata": {},
   "source": [
    "List of countries by percentage of population living in poverty"
   ]
  },
  {
   "cell_type": "code",
   "execution_count": 139,
   "metadata": {},
   "outputs": [],
   "source": [
    "poverty_url = 'https://en.wikipedia.org/wiki/List_of_countries_by_percentage_of_population_living_in_poverty'\n",
    "driver.get(poverty_url)\n",
    "\n",
    "name=[]\n",
    "poverty=[]\n",
    "pov_xml1='//*[@id=\"mw-content-text\"]/div/table[1]/tbody/tr['\n",
    "pov_xml2=']/td[2]'\n",
    "str_xml1='//*[@id=\"mw-content-text\"]/div/table[1]/tbody/tr['\n",
    "str_xml2=']/td[1]/a'\n",
    "for i in range(1,197):\n",
    "    x_xml=str(i)\n",
    "    total_xml = str_xml1+x_xml+str_xml2\n",
    "    total_pov = pov_xml1+x_xml+pov_xml2\n",
    "    elements_XPath = driver.find_elements_by_xpath(total_xml)[0].text\n",
    "    pov_XPath = driver.find_elements_by_xpath(total_pov)[0].text\n",
    "    name.append(elements_XPath)\n",
    "    poverty.append(pov_XPath)\n",
    "\n",
    "df_poverty = pd.DataFrame(data={'country':name, 'poverty':poverty})\n",
    "df_poverty.set_index('country', inplace=True)\n",
    "df_poverty.rename(index={'Eswatini':'Swaziland', 'Korea, South':'South Korea', 'São Tomé and Príncipe':'Sao Tome and Principe',\\\n",
    "                     'Vatican City':'Vatican', 'Congo, Republic of the':'Congo','Bahamas, The':'Bahamas',\\\n",
    "                      'North Macedonia':'Macedonia', 'Congo, Democratic Republic of the':'Democratic Republic of Congo'\\\n",
    "                      ,'Gambia, The':'Gambia', 'Ivory Coast':'Cote d\\'Ivoire', 'East Timor':'Timor'},inplace=True)\n",
    "\n",
    "for i in range(len(df_poverty)):\n",
    "    try:\n",
    "        if np.isnan(countries_para[countries_para.index==df_poverty.index[i]]['extreme_poverty'][0]):\n",
    "            t=countries_para[countries_para.index==df_poverty.index[i]].replace({'extreme_poverty':np.nan}, df_poverty.iloc[i]['poverty'])\n",
    "            countries_para[countries_para.index==df_poverty.index[i]]=t\n",
    "    except:\n",
    "        pass\n",
    "    \n",
    "poverty_add_dict = {'Swaziland':28.4, 'Afghanistan':36.0, 'Bahamas':1.9, 'Bahrain':0.07, 'Barbados':1.38, 'Brunei':0.02,\n",
    "                    'Eritrea':64.0, 'New Zealand':0.01, 'Kuwait':0.02,'Oman':0.1, 'Qatar':0.0, 'Saudi Arabia':0.55,\n",
    "                    'Singapore':1.0, 'United Arab Emirates':0.02, 'Antigua and Barbuda':1.7, 'Equatorial Guinea':40.0,\n",
    "                   'Grenada':13.0, 'Libya':7.24, 'Saint Vincent and the Grenadines':5.12}\n",
    "for i in poverty_add_dict.keys():\n",
    "    countries_para[countries_para.index==i] = countries_para[countries_para.index==i].replace({'extreme_poverty':np.nan}, poverty_add_dict[i])"
   ]
  },
  {
   "cell_type": "markdown",
   "metadata": {},
   "source": [
    "List of countries by percentage of population living with obesity"
   ]
  },
  {
   "cell_type": "code",
   "execution_count": 155,
   "metadata": {},
   "outputs": [],
   "source": [
    "obesity_url = 'https://ourworldindata.org/obesity'\n",
    "driver.get(obesity_url)\n",
    "u = '/html/body/main/article/div[2]/div[2]/div/div/section[4]/div[3]/div[2]/figure/div/div[2]/div[2]/nav/ul/li[3]/a'\n",
    "clickme= driver.find_element_by_xpath(u)\n",
    "clickme.click()\n",
    "name=[]\n",
    "obesity=[]\n",
    "obs_xml1='/html/body/main/article/div[2]/div[2]/div/div/section[4]/div[3]/div[2]/figure/div/div[1]/div/table/tbody/tr['\n",
    "obs_xml2=']/td[3]'\n",
    "str_xml1=obs_xml1\n",
    "str_xml2=']/td[1]'\n",
    "for i in range(1,199):\n",
    "    x_xml=str(i)\n",
    "    total_xml = str_xml1+x_xml+str_xml2\n",
    "    total_obs = obs_xml1+x_xml+obs_xml2\n",
    "    elements_XPath = driver.find_elements_by_xpath(total_xml)[0].text\n",
    "    obs_XPath = driver.find_elements_by_xpath(total_obs)[0].text\n",
    "    name.append(elements_XPath)\n",
    "    obesity.append(float(obs_XPath[:-1]))\n",
    "\n",
    "df_obesity=pd.DataFrame(data={'country':name, 'obesity':obesity})\n",
    "df_obesity.set_index('country', inplace=True)\n",
    "countries_para['obesity']=np.array(np.nan)\n",
    "\n",
    "for i in range(len(obesity)):\n",
    "    try:\n",
    "        if np.isnan(countries_para[countries_para.index==df_obesity.index[i]]['obesity'].iloc[0]):\n",
    "            t=countries_para[countries_para.index==df_obesity.index[i]].replace({'obesity':np.nan}, df_obesity.iloc[i]['obesity'])\n",
    "            countries_para[countries_para.index==df_obesity.index[i]]=t\n",
    "    except:\n",
    "        pass"
   ]
  },
  {
   "cell_type": "markdown",
   "metadata": {},
   "source": [
    "List of countries by percentage of hypertension as cause of death"
   ]
  },
  {
   "cell_type": "code",
   "execution_count": 159,
   "metadata": {},
   "outputs": [],
   "source": [
    "hypertension_url = 'https://www.worldlifeexpectancy.com/cause-of-death/hypertension/by-country/'\n",
    "driver.get(hypertension_url)\n",
    "\n",
    "name=[]\n",
    "blood_p=[]\n",
    "bld_xml1='//*[@id=\"chart_continer\"]/table/tbody/tr['\n",
    "bld_xml2= ']/td[4]'\n",
    "bld_xml3 =']/td[8]'\n",
    "str_xml1=bld_xml1\n",
    "str_xml2=']/td[3]'\n",
    "str_xml3=']/td[7]'\n",
    "d=0\n",
    "for i in range(1,93):\n",
    "    x_xml=str(i)\n",
    "    for s in [str_xml2,str_xml3]:\n",
    "        if i==92:\n",
    "            d+=1\n",
    "        if d<2:\n",
    "            total_xml = str_xml1+x_xml+s\n",
    "            elements_XPath = driver.find_elements_by_xpath(total_xml)[0].text\n",
    "            name.append(elements_XPath)\n",
    "    d=0\n",
    "    for b in [bld_xml2,bld_xml3]:  \n",
    "        if i==92:\n",
    "            d+=1\n",
    "        if d<2:\n",
    "            total_bld = bld_xml1+x_xml+b\n",
    "            bld_XPath = driver.find_elements_by_xpath(total_bld)[0].text\n",
    "            print(i,bld_XPath)\n",
    "            blood_p.append(float(bld_XPath))\n",
    "\n",
    "df_blood_pressure=pd.DataFrame(data={'country':name, 'blood_p':blood_p})\n",
    "df_blood_pressure['country'] = df_blood_pressure['country'].apply(lambda x: x.title())\n",
    "df_blood_pressure.set_index('country', inplace=True)\n",
    "\n",
    "df_blood_pressure.rename(index={ 'Viet Nam':'Vietnam', 'Sao Tome':'Sao Tome and Principe', 'Timor-Leste':'Timor',\\\n",
    "                             'Dr Congo':'Democratic Republic of Congo', 'Cote D Ivoire':'Cote d\\'Ivoire',\\\n",
    "                              'Arab Emirates':'United Arab Emirates', 'Saint Vincent':'Saint Vincent and the Grenadines',\\\n",
    "                              'Bosnia/Herzeg.':'Bosnia and Herzegovina', 'Equ. Guinea':'Equatorial Guinea',\\\n",
    "                            'Central Africa':'Central African Republic', 'No Macedonia':'Macedonia',\\\n",
    "                             'Dominican Rep.':'Dominican Republic','Antigua/Bar.':'Antigua and Barbuda',\\\n",
    "                            'Trinidad/Tob.':'Trinidad and Tobago', 'New Guinea':'Papua New Guinea' },inplace=True)\n",
    "\n",
    "countries_para['blood_p']=np.array(np.nan)\n",
    "for i in range(len(df_blood_pressure)):\n",
    "    try:\n",
    "        if np.isnan(countries_para[countries_para.index==df_blood_pressure.index[i]]['blood_p'].iloc[0]):\n",
    "            t=countries_para[countries_para.index==df_blood_pressure.index[i]].replace({'blood_p':np.nan}, df_blood_pressure.iloc[i]['blood_p'])\n",
    "            countries_para[countries_para.index==df_blood_pressure.index[i]]=t\n",
    "    except:\n",
    "        pass"
   ]
  },
  {
   "cell_type": "markdown",
   "metadata": {},
   "source": [
    "List of countries by death rate from smoking"
   ]
  },
  {
   "cell_type": "code",
   "execution_count": 160,
   "metadata": {},
   "outputs": [
    {
     "name": "stdout",
     "output_type": "stream",
     "text": [
      "1 89.89\n",
      "2 98.24\n",
      "3 60.41\n",
      "4 73.54\n",
      "5 29.70\n",
      "6 57.77\n",
      "7 87.58\n",
      "8 38.42\n",
      "9 96.51\n",
      "10 116.90\n",
      "11 51.28\n",
      "12 50.83\n",
      "13 63.65\n",
      "14 142.20\n",
      "15 42.93\n",
      "16 45.85\n",
      "17 80.07\n",
      "18 34.30\n",
      "19 134.83\n",
      "20 84.06\n",
      "21 51.52\n",
      "22 45.25\n",
      "23 48.71\n",
      "24 54.19\n",
      "25 49.84\n",
      "26 141.74\n",
      "27 74.19\n",
      "28 74.85\n",
      "29 104.56\n",
      "30 141.21\n",
      "31 36.27\n",
      "32 67.49\n",
      "33 128.84\n",
      "34 45.91\n",
      "35 70.30\n",
      "36 29.30\n",
      "37 75.48\n",
      "38 112.57\n",
      "39 110.44\n",
      "40 114.48\n",
      "41 124.74\n",
      "42 45.36\n",
      "43 59.92\n",
      "44 31.58\n",
      "45 44.70\n",
      "46 120.22\n",
      "47 35.98\n",
      "48 41.31\n",
      "49 67.39\n",
      "50 45.06\n",
      "51 59.96\n",
      "52 105.03\n",
      "53 97.77\n",
      "54 77.61\n",
      "55 97.96\n",
      "56 48.23\n",
      "57 97.12\n",
      "58 68.22\n",
      "59 40.57\n",
      "60 85.93\n",
      "61 119.16\n",
      "62 134.30\n",
      "63 54.49\n",
      "64 33.14\n",
      "65 122.69\n",
      "66 38.82\n",
      "67 65.32\n",
      "68 39.51\n",
      "69 48.88\n",
      "70 81.79\n",
      "71 25.32\n",
      "72 121.50\n",
      "73 45.18\n",
      "74 57.40\n",
      "75 62.19\n",
      "76 72.58\n",
      "77 116.20\n",
      "78 74.00\n",
      "79 40.93\n",
      "80 100.04\n",
      "81 185.65\n",
      "82 56.44\n",
      "83 63.84\n",
      "84 36.92\n",
      "85 42.39\n",
      "86 44.26\n",
      "87 67.23\n",
      "88 62.34\n",
      "89 67.81\n",
      "90 66.34\n",
      "91 52.53\n",
      "92 108.02\n",
      "93 70.27\n",
      "94 126.12\n",
      "95 58.23\n",
      "96 91.58\n",
      "97 116.48\n",
      "98 59.50\n",
      "99 54.05\n",
      "100 76.08\n",
      "101 52.50\n",
      "102 55.24\n",
      "103 74.99\n",
      "104 52.16\n",
      "105 65.83\n",
      "106 118.98\n",
      "107 50.35\n",
      "108 266.13\n",
      "109 42.30\n",
      "110 88.87\n",
      "111 141.19\n",
      "112 58.72\n",
      "113 105.82\n",
      "114 113.57\n",
      "115 156.35\n",
      "116 50.45\n",
      "117 62.19\n",
      "118 101.00\n",
      "119 94.95\n",
      "120 94.72\n",
      "121 67.78\n",
      "122 125.85\n",
      "123 54.29\n",
      "124 54.61\n",
      "125 99.56\n",
      "126 65.14\n",
      "127 34.61\n",
      "128 69.11\n",
      "129 130.52\n",
      "130 26.34\n",
      "131 69.97\n",
      "132 47.73\n",
      "133 116.20\n",
      "134 95.08\n",
      "135 112.29\n",
      "136 137.00\n",
      "137 169.04\n",
      "138 59.06\n",
      "139 91.00\n",
      "140 175.06\n",
      "141 89.27\n",
      "142 124.98\n",
      "143 87.72\n",
      "144 53.66\n",
      "145 33.38\n",
      "146 24.04\n",
      "147 17.72\n",
      "148 76.43\n",
      "149 75.05\n",
      "150 117.81\n",
      "151 64.52\n",
      "152 54.06\n",
      "153 60.01\n",
      "154 206.11\n",
      "155 51.07\n",
      "156 128.66\n",
      "157 49.91\n",
      "158 38.57\n",
      "159 244.89\n",
      "160 85.88\n",
      "161 22.80\n",
      "162 140.13\n",
      "163 108.88\n",
      "164 50.88\n",
      "165 25.93\n",
      "166 38.37\n",
      "167 111.93\n",
      "168 130.21\n",
      "169 83.59\n",
      "170 54.42\n",
      "171 50.97\n",
      "172 140.43\n",
      "173 40.32\n",
      "174 34.81\n",
      "175 104.68\n",
      "176 33.90\n",
      "177 152.95\n",
      "178 85.08\n",
      "179 70.66\n",
      "180 35.63\n",
      "181 90.20\n",
      "182 69.15\n",
      "183 168.74\n",
      "184 80.41\n",
      "185 69.72\n",
      "186 93.90\n",
      "187 57.68\n",
      "188 68.31\n",
      "189 106.84\n",
      "190 117.36\n",
      "191 81.21\n",
      "192 80.17\n",
      "193 65.14\n",
      "194 54.61\n",
      "195 48.88\n",
      "196 15.85\n",
      "197 82.81\n",
      "198 100.23\n",
      "199 58.05\n",
      "200 53.12\n",
      "201 81.06\n",
      "202 71.62\n",
      "203 85.27\n",
      "204 69.52\n",
      "205 58.40\n",
      "206 108.92\n",
      "207 44.11\n",
      "208 105.42\n",
      "209 55.97\n",
      "210 75.08\n",
      "211 94.17\n",
      "212 89.08\n",
      "213 98.14\n",
      "214 43.84\n",
      "215 153.56\n",
      "216 65.70\n",
      "217 69.50\n",
      "218 75.61\n",
      "219 44.45\n",
      "220 89.16\n",
      "221 99.13\n",
      "222 145.98\n",
      "223 59.10\n",
      "224 99.32\n",
      "225 79.87\n",
      "226 66.12\n",
      "227 30.74\n",
      "228 90.11\n",
      "229 103.08\n",
      "230 76.98\n",
      "231 138.52\n"
     ]
    }
   ],
   "source": [
    "smoking_url = 'https://ourworldindata.org/grapher/death-rate-smoking?tab=table'\n",
    "driver.get(smoking_url)\n",
    "\n",
    "name=[]\n",
    "smoking=[]\n",
    "smk_xml1='/html/body/main/figure/div/div[1]/div/table/tbody/tr['\n",
    "smk_xml2= ']/td[3]'\n",
    "str_xml1=smk_xml1\n",
    "str_xml2=']/td[1]'\n",
    "for i in range(1,232):\n",
    "    x_xml=str(i)\n",
    "    total_xml = str_xml1+x_xml+str_xml2\n",
    "    elements_XPath = driver.find_elements_by_xpath(total_xml)[0].text\n",
    "    name.append(elements_XPath)\n",
    "    total_smk = smk_xml1+x_xml+smk_xml2\n",
    "    smk_XPath = driver.find_elements_by_xpath(total_smk)[0].text\n",
    "    print(i,smk_XPath)\n",
    "    smoking.append(float(smk_XPath))\n",
    "    \n",
    "df_smoking=pd.DataFrame(data={'country':name, 'smoking_d':smoking})\n",
    "df_smoking.set_index('country',inplace=True)\n",
    "countries_para['smoking_d']=np.array(np.nan)\n",
    "\n",
    "for i in range(len(df_smoking)):\n",
    "    try:\n",
    "        if np.isnan(countries_para[countries_para.index==df_smoking.index[i]]['smoking_d'].iloc[0]):\n",
    "            t=countries_para[countries_para.index==df_smoking.index[i]].replace({'smoking_d':np.nan}, df_smoking.iloc[i]['smoking_d'])\n",
    "            countries_para[countries_para.index==df_smoking.index[i]]=t\n",
    "    except:\n",
    "        pass"
   ]
  },
  {
   "cell_type": "code",
   "execution_count": 162,
   "metadata": {},
   "outputs": [],
   "source": [
    "driver.close()"
   ]
  },
  {
   "cell_type": "code",
   "execution_count": 173,
   "metadata": {},
   "outputs": [],
   "source": [
    "countries_para.drop(['male_smokers','female_smokers'],axis=1,inplace=True)"
   ]
  },
  {
   "cell_type": "markdown",
   "metadata": {},
   "source": [
    "List of countries by death from SARS"
   ]
  },
  {
   "cell_type": "code",
   "execution_count": 177,
   "metadata": {},
   "outputs": [],
   "source": [
    "countries_para['sars_deaths']=np.array(np.zeros(len(countries_para)))\n",
    "\n",
    "sars_dict = {'CHN':349.0, 'SGP':33.0, 'CAN':44.0, 'VNM':5.0, 'PHL':2.0, 'THA':2.0,\n",
    "                    'FRA':1.0, 'MYS':2.0, 'ZAF':1.0}\n",
    "for i in sars_dict.keys():\n",
    "    countries_para[countries_para.iso_code==i] = countries_para[countries_para.iso_code==i].replace({'sars_deaths': 0} ,sars_dict[i])"
   ]
  },
  {
   "cell_type": "markdown",
   "metadata": {},
   "source": [
    "saving to csv file"
   ]
  },
  {
   "cell_type": "code",
   "execution_count": 215,
   "metadata": {},
   "outputs": [],
   "source": [
    "countries_para.drop(['stringency_index','total_deaths','total_deaths_per_million'], axis = 1, inplace = True)\n",
    "countries_para.rename({'iso_code':'iso'}, inplace = True)\n",
    "countries_para.set_index('iso', inplace = True)"
   ]
  },
  {
   "cell_type": "code",
   "execution_count": null,
   "metadata": {},
   "outputs": [],
   "source": [
    "countries_para.to_csv('full_data_covid.csv')"
   ]
  },
  {
   "cell_type": "markdown",
   "metadata": {},
   "source": [
    "# total deaths per country for each day"
   ]
  },
  {
   "cell_type": "code",
   "execution_count": 219,
   "metadata": {},
   "outputs": [],
   "source": [
    "countries_para= pd.read_csv('full_data_covid.csv')\n",
    "countries_para.set_index('iso', inplace = True)"
   ]
  },
  {
   "cell_type": "code",
   "execution_count": 220,
   "metadata": {},
   "outputs": [],
   "source": [
    "total_deaths_url = 'https://raw.githubusercontent.com/owid/covid-19-data/master/public/data/ecdc/total_deaths.csv'\n",
    "total_deaths = pd.read_csv(total_deaths_url).set_index('date')\n",
    "total_deaths.ffill(inplace=True)\n",
    "total_deaths.fillna(0,inplace=True)\n",
    "for col in total_deaths.columns:\n",
    "    total_deaths.rename(columns={col:countries_para[countries_para.location==col].index[0]},inplace=True)\n",
    "    \n",
    "    "
   ]
  },
  {
   "cell_type": "code",
   "execution_count": null,
   "metadata": {},
   "outputs": [],
   "source": [
    "total_deaths.to_csv('countries_deaths.csv')"
   ]
  },
  {
   "cell_type": "markdown",
   "metadata": {},
   "source": [
    "# first case for each country"
   ]
  },
  {
   "cell_type": "code",
   "execution_count": 224,
   "metadata": {},
   "outputs": [
    {
     "name": "stderr",
     "output_type": "stream",
     "text": [
      "C:\\anconda3\\lib\\site-packages\\pandas\\core\\frame.py:7123: FutureWarning: Sorting because non-concatenation axis is not aligned. A future version\n",
      "of pandas will change to not sort by default.\n",
      "\n",
      "To accept the future behavior, pass 'sort=False'.\n",
      "\n",
      "To retain the current behavior and silence the warning, pass 'sort=True'.\n",
      "\n",
      "  sort=sort,\n"
     ]
    }
   ],
   "source": [
    "url='https://raw.githubusercontent.com/owid/covid-19-data/master/public/data/ecdc/total_deaths.csv'\n",
    "total_deaths = pd.read_csv(url)\n",
    "first_case=pd.DataFrame(total_deaths.drop('date',axis=1).columns)\n",
    "first_case.rename(columns={0:'country'},inplace=True)\n",
    "first_case.set_index('country',inplace=True)\n",
    "first_case['first_case']=first_case.index\n",
    "for c in first_case.index:\n",
    "    t=total_deaths.date[total_deaths[c]>0]\n",
    "    if not t.empty:\n",
    "        first_case['first_case'].loc[c]=t.iloc[0]\n",
    "    else:\n",
    "        first_case['first_case'].loc[c]=np.nan\n",
    "first_case.sort_index(ascending=True, inplace=True)\n",
    "\n",
    "first_case['iso']=np.array(np.nan)\n",
    "for c in first_case.index:\n",
    "    t = first_case[first_case.index == c].replace({'iso':np.nan},countries_para[countries_para.location==c].index[0])\n",
    "    first_case[first_case.index == c] = t\n",
    "    \n",
    "first_case.set_index('iso', inplace=True)\n",
    "first_case.loc['VNM'] = first_case.loc['VNM'].replace({'first_case':np.nan},'2020-03-15')\n",
    "first_case = first_case.append(pd.DataFrame(data={'country':'Hong Kong','first_case':'2020-03-15'}, index=['HKG']))\n",
    "\n",
    "first_covid.to_csv('first_case.csv')"
   ]
  },
  {
   "cell_type": "code",
   "execution_count": 225,
   "metadata": {},
   "outputs": [
    {
     "ename": "NameError",
     "evalue": "name 'first_covid' is not defined",
     "output_type": "error",
     "traceback": [
      "\u001b[1;31m---------------------------------------------------------------------------\u001b[0m",
      "\u001b[1;31mNameError\u001b[0m                                 Traceback (most recent call last)",
      "\u001b[1;32m<ipython-input-225-9b3a09dc73ec>\u001b[0m in \u001b[0;36m<module>\u001b[1;34m\u001b[0m\n\u001b[1;32m----> 1\u001b[1;33m \u001b[0mfirst_covid\u001b[0m\u001b[1;33m.\u001b[0m\u001b[0mhead\u001b[0m\u001b[1;33m(\u001b[0m\u001b[1;33m)\u001b[0m\u001b[1;33m\u001b[0m\u001b[1;33m\u001b[0m\u001b[0m\n\u001b[0m",
      "\u001b[1;31mNameError\u001b[0m: name 'first_covid' is not defined"
     ]
    }
   ],
   "source": [
    "first_covid.head()"
   ]
  },
  {
   "cell_type": "markdown",
   "metadata": {},
   "source": [
    "# policy per country for each day"
   ]
  },
  {
   "cell_type": "code",
   "execution_count": null,
   "metadata": {},
   "outputs": [],
   "source": [
    "countries_para.dropna(inplace=True)"
   ]
  },
  {
   "cell_type": "markdown",
   "metadata": {},
   "source": [
    "policy for a specific day in a country"
   ]
  },
  {
   "cell_type": "code",
   "execution_count": null,
   "metadata": {},
   "outputs": [],
   "source": [
    "def policy(iso, date_cov):\n",
    "    try:\n",
    "        url='https://covidtrackerapi.bsg.ox.ac.uk/api/v2/stringency/actions/{0}/{1}'.format(iso, date_cov)\n",
    "        oxford_cov = pd.read_json(url,typ='records')\n",
    "        cov_pol = []\n",
    "        t=oxford_cov['policyActions']\n",
    "        del t[10]\n",
    "        del t[10]\n",
    "        del t[-1]\n",
    "        del t[-1]\n",
    "        try:\n",
    "            for i in range(len(t)):\n",
    "                cov_pol.append([t[i]['policy_type_display'],t[i]['policyvalue_actual']])\n",
    "        except:\n",
    "            pass\n",
    "    except:\n",
    "        pass\n",
    "    return cov_pol"
   ]
  },
  {
   "cell_type": "code",
   "execution_count": null,
   "metadata": {},
   "outputs": [],
   "source": [
    "def weekly_policy(iso, date_cov):\n",
    "    weekly =[]\n",
    "    for i in range(7):\n",
    "        day = str(date.fromisoformat(date_cov)+timedelta(i))\n",
    "        weekly.append(policy(iso, day))\n",
    "    return weekly"
   ]
  },
  {
   "cell_type": "markdown",
   "metadata": {},
   "source": [
    "takes a country and policies from a specific day and makes a data frame"
   ]
  },
  {
   "cell_type": "code",
   "execution_count": 226,
   "metadata": {},
   "outputs": [],
   "source": [
    "def dataframe_cov(iso, date_cov):\n",
    "    try:\n",
    "        \n",
    "        daily = policy(iso, date_cov)\n",
    "        columns_pol = ['iso']\n",
    "        value_pol = [iso]\n",
    "        len_col = len(daily)\n",
    "\n",
    "        for i in range(len_col):  \n",
    "            columns_pol.append(daily[i][0])\n",
    "            value_pol.append(daily[i][1])\n",
    "        df= pd.DataFrame(data = np.reshape(value_pol,(1,14)), columns=columns_pol)\n",
    "        df[df.columns[1:]]=df[df.columns[1:]].astype('int')\n",
    "        return df\n",
    "    except:\n",
    "        pass"
   ]
  },
  {
   "cell_type": "markdown",
   "metadata": {},
   "source": [
    "mean deaths in a country for a specific week"
   ]
  },
  {
   "cell_type": "code",
   "execution_count": 227,
   "metadata": {},
   "outputs": [],
   "source": [
    "def mean_death(iso,date_cov,i=0):\n",
    "    first_date = date.fromisoformat(date_cov)+timedelta(7+i)\n",
    "    last_date = first_date+timedelta(7)\n",
    "    try:\n",
    "        today = total_deaths.loc[str(first_date)][iso]\n",
    "        future = total_deaths.loc[str(last_date)][iso]\n",
    "        week = (future-today)/7\n",
    "        print(today, future, week)\n",
    "        return pd.DataFrame(data={'mean_deaths_{0}'.format(i+7):week},index={iso})\n",
    "    except:\n",
    "        pass\n",
    "    \n",
    "def present_death(iso,date_cov):\n",
    "    first_date = date.fromisoformat(date_cov)\n",
    "    last_date = first_date+timedelta(7)\n",
    "    try:\n",
    "        daily = (total_deaths.loc[str(last_date)][iso]-total_deaths.loc[str(first_date)][iso])/7\n",
    "        return pd.DataFrame(data={'present_death':daily},index={iso})\n",
    "    except:\n",
    "        pass"
   ]
  },
  {
   "cell_type": "markdown",
   "metadata": {},
   "source": [
    "policy data scraping"
   ]
  },
  {
   "cell_type": "code",
   "execution_count": 228,
   "metadata": {},
   "outputs": [],
   "source": [
    "def action():\n",
    "    final_date = date.fromisoformat('2020-07-26')\n",
    "    covid_data=pd.DataFrame()\n",
    "    f=0\n",
    "    for iso in countries_para.index:\n",
    "        print(iso, f)\n",
    "        try:\n",
    "            date_cov = date.fromisoformat(first_covid.loc[iso]['first_case'])\n",
    "        except:\n",
    "            date_cov = date.fromisoformat('2020-03-01')\n",
    "        while date_cov < final_date:\n",
    "            print(date_cov)\n",
    "            try:\n",
    "                death=mean_death(iso,str(date_cov)).join(mean_death(iso,str(date_cov),7)).join(mean_death(iso,str(date_cov),14))\n",
    "                covid_mean = dataframe_cov(iso,str(date_cov)).set_index('iso')\n",
    "                present = present_death(iso,str(date_cov))\n",
    "                time_cov = pd.DataFrame(data={'date':str(date_cov)},index={iso})\n",
    "                \n",
    "                data1=covid_mean.join(present).join(death)\n",
    "                data=pd.DataFrame(countries_para.loc[iso]).T.join(data1)\n",
    "                data=time_cov.join(data)\n",
    "                covid_data=covid_data.append(data)\n",
    "            except:\n",
    "                print(iso, date_cov ,' fail')\n",
    "            date_cov+=timedelta(1)\n",
    "        f+=1\n",
    "    return covid_data"
   ]
  },
  {
   "cell_type": "code",
   "execution_count": 229,
   "metadata": {},
   "outputs": [],
   "source": [
    "covid19 = action()"
   ]
  },
  {
   "cell_type": "code",
   "execution_count": 231,
   "metadata": {},
   "outputs": [],
   "source": [
    "covid19[covid19.columns[14:17]]=covid19[covid19.columns[14:17]].astype(float)\n",
    "covid19[covid19.columns[19:24]]=covid19[covid19.columns[19:24]].astype(float)\n",
    "covid19[covid19.columns[25:]]=covid19[covid19.columns[25:]].astype(float)\n",
    "\n",
    "con= covid19[(covid19['present_death'] <1)]\n",
    "covid19 = pd.concat([covid19, con]).drop_duplicates(keep=False)\n",
    "covid19=pd.get_dummies(covid19 , columns=['continent'])\n",
    "\n",
    "covid19.info()"
   ]
  },
  {
   "cell_type": "code",
   "execution_count": null,
   "metadata": {},
   "outputs": [],
   "source": [
    "covid19.to_csv('corona_policy_dataframe.csv')"
   ]
  },
  {
   "cell_type": "code",
   "execution_count": 232,
   "metadata": {},
   "outputs": [
    {
     "data": {
      "text/plain": [
       "Index(['AFG', 'ALB', 'DZA', 'AGO', 'ARG', 'AUS', 'AUT', 'AZE', 'BHR', 'BGD',\n",
       "       ...\n",
       "       'UKR', 'ARE', 'GBR', 'USA', 'URY', 'UZB', 'VEN', 'YEM', 'ZMB', 'ZWE'],\n",
       "      dtype='object', name='iso', length=140)"
      ]
     },
     "execution_count": 232,
     "metadata": {},
     "output_type": "execute_result"
    }
   ],
   "source": [
    "covid_data = pd.read_csv('corona_policy_dataframe.csv')\n",
    "covid_data = covid_data[covid_data.present_death>0]\n",
    "covid_data = pd.get_dummies(covid_data , columns=['continent'])\n",
    "covid_data.rename(columns = {'Unnamed: 0':'iso'},inplace=True)\n",
    "covid_data.set_index('iso',inplace=True)\n",
    "covid_data.index.unique()"
   ]
  },
  {
   "cell_type": "markdown",
   "metadata": {},
   "source": [
    "# ml models - before data cleaning"
   ]
  },
  {
   "cell_type": "code",
   "execution_count": 233,
   "metadata": {},
   "outputs": [],
   "source": [
    "import matplotlib.pyplot as plt\n",
    "import seaborn as sns\n",
    "from sklearn.linear_model import LinearRegression\n",
    "from sklearn.model_selection import train_test_split\n",
    "from sklearn.preprocessing import MinMaxScaler"
   ]
  },
  {
   "cell_type": "code",
   "execution_count": 234,
   "metadata": {},
   "outputs": [],
   "source": [
    "scaler = MinMaxScaler()\n",
    "dfTest = covid_data.drop(['date', 'location'],axis=1)\n",
    "dfTest[dfTest.columns] = scaler.fit_transform(dfTest[dfTest.columns])"
   ]
  },
  {
   "cell_type": "code",
   "execution_count": 235,
   "metadata": {},
   "outputs": [
    {
     "data": {
      "text/plain": [
       "0.900146718893577"
      ]
     },
     "execution_count": 235,
     "metadata": {},
     "output_type": "execute_result"
    }
   ],
   "source": [
    "model1 = LinearRegression()\n",
    "X_train1, X_test1, y_train1, y_test1 = train_test_split(dfTest.drop(['mean_deaths_7', 'mean_deaths_14', 'mean_deaths_21'],axis=1),dfTest['mean_deaths_7'],test_size=0.33, random_state=42)\n",
    "model1.fit(X_train1,y_train1)\n",
    "model1.score(X_test1,y_test1)\n",
    "pred1 = model1.predict(X_test1)\n",
    "model1.score(X_test1,y_test1)"
   ]
  },
  {
   "cell_type": "code",
   "execution_count": 236,
   "metadata": {},
   "outputs": [
    {
     "data": {
      "text/plain": [
       "<matplotlib.collections.PathCollection at 0x254223a9cc8>"
      ]
     },
     "execution_count": 236,
     "metadata": {},
     "output_type": "execute_result"
    },
    {
     "data": {
      "image/png": "[encoded data removed]",
      "text/plain": [
       "<Figure size 432x288 with 1 Axes>"
      ]
     },
     "metadata": {
      "needs_background": "light"
     },
     "output_type": "display_data"
    }
   ],
   "source": [
    "plt.scatter(y_test1,pred1)"
   ]
  },
  {
   "cell_type": "code",
   "execution_count": 237,
   "metadata": {},
   "outputs": [],
   "source": [
    "def change(x):\n",
    "    return x[0]/x[1]\n",
    "covid_data['mean_death0'] = covid_data[['mean_deaths_7','present_death']].apply(change, axis=1)\n",
    "covid_data['mean_death1'] = covid_data[['mean_deaths_14','present_death']].apply(change, axis=1)\n",
    "covid_data['mean_death2'] = covid_data[['mean_deaths_21','present_death']].apply(change, axis=1)"
   ]
  },
  {
   "cell_type": "code",
   "execution_count": 238,
   "metadata": {},
   "outputs": [],
   "source": [
    "scaler = MinMaxScaler()\n",
    "dfTest = covid_data.drop(['date', 'location'],axis=1)\n",
    "dfTest[dfTest.columns] = scaler.fit_transform(dfTest[dfTest.columns])"
   ]
  },
  {
   "cell_type": "code",
   "execution_count": 239,
   "metadata": {},
   "outputs": [
    {
     "data": {
      "text/plain": [
       "-0.17595934093807153"
      ]
     },
     "execution_count": 239,
     "metadata": {},
     "output_type": "execute_result"
    }
   ],
   "source": [
    "model2 = LinearRegression()\n",
    "X_train2, X_test2, y_train2, y_test2 = train_test_split(dfTest.drop(['mean_deaths_7', 'mean_deaths_14', 'mean_deaths_21', 'present_death', 'mean_death0', 'mean_death1', 'mean_death2'],axis=1),dfTest['mean_death0'],test_size=0.33, random_state=42)\n",
    "model2.fit(X_train2,y_train2)\n",
    "model2.score(X_test2,y_test2)"
   ]
  },
  {
   "cell_type": "code",
   "execution_count": 240,
   "metadata": {},
   "outputs": [],
   "source": [
    "from sklearn.ensemble import RandomForestRegressor"
   ]
  },
  {
   "cell_type": "code",
   "execution_count": 241,
   "metadata": {},
   "outputs": [
    {
     "data": {
      "text/plain": [
       "Index(['Cancel public events', 'Close public transport', 'Contact tracing',\n",
       "       'Debt/contract relief', 'Emergency investment in healthcare',\n",
       "       'Income support', 'International travel controls',\n",
       "       'Public information campaigns', 'Restrictions on gatherings',\n",
       "       'Restrictions on internal movement', 'School closing',\n",
       "       'Stay at home requirements', 'Testing policy', 'Workplace closing',\n",
       "       'aged_65_older', 'aged_70_older', 'blood_p', 'date',\n",
       "       'diabetes_prevalence', 'extreme_poverty', 'gdp_per_capita',\n",
       "       'hospital_beds_per_thousand', 'life_expectancy', 'location',\n",
       "       'mean_deaths_14', 'mean_deaths_21', 'mean_deaths_7', 'median_age',\n",
       "       'obesity', 'population', 'population_density', 'present_death',\n",
       "       'sars_deaths', 'smoking_d', 'continent_Africa', 'continent_Asia',\n",
       "       'continent_Europe', 'continent_North America', 'continent_Oceania',\n",
       "       'continent_South America', 'mean_death0', 'mean_death1', 'mean_death2'],\n",
       "      dtype='object')"
      ]
     },
     "execution_count": 241,
     "metadata": {},
     "output_type": "execute_result"
    }
   ],
   "source": [
    "covid_data.columns"
   ]
  },
  {
   "cell_type": "code",
   "execution_count": 242,
   "metadata": {},
   "outputs": [
    {
     "data": {
      "text/plain": [
       "0.553104277306915"
      ]
     },
     "execution_count": 242,
     "metadata": {},
     "output_type": "execute_result"
    }
   ],
   "source": [
    "scaler = MinMaxScaler()\n",
    "dfTest = covid_data[covid_data.continent_Europe==1].drop(['date', 'location'],axis=1)\n",
    "dfTest[dfTest.columns] = scaler.fit_transform(dfTest[dfTest.columns])\n",
    "\n",
    "forest_model2 = RandomForestRegressor(random_state = 101, max_depth=12 , n_estimators=11)\n",
    "X_trainF, X_testF, y_trainF, y_testF = train_test_split(dfTest.drop(['mean_deaths_7', 'mean_deaths_14', 'mean_deaths_21', 'present_death', 'mean_death0','mean_death1','mean_death2'], axis=1), dfTest['mean_death1'] ,test_size=0.33, random_state=42)\n",
    "forest_model2.fit(X_trainF, y_trainF)\n",
    "forest_model2.score(X_testF, y_testF)"
   ]
  },
  {
   "cell_type": "markdown",
   "metadata": {},
   "source": [
    "# data visualization and analysis"
   ]
  },
  {
   "cell_type": "code",
   "execution_count": 243,
   "metadata": {},
   "outputs": [],
   "source": [
    "covid_data.rename(columns = {'School closing':'school_closing', 'Restrictions on gatherings':'restrictions_on_gatherings', \n",
    "                      'Workplace closing':'workplace_closing', 'Cancel public events':'cancel_public_events',\n",
    "                      'Stay at home requirements':'stay_at_home_requirements',\n",
    "                      'Restrictions on internal movement':'restrictions_on_internal_movement', \n",
    "                     'International travel controls':'international_travel_controls', 'Income support':'income_support',\n",
    "                    'Debt/contract relief':'debt/contract_relief','Public information campaigns':'public_information_campaigns',\n",
    "                      'Testing policy':'testing_policy', 'Contact tracing':'contact_tracing',\n",
    "                        'Close public transport':'close_public_transport'},inplace=True)\n",
    "covid_data['std_deaths0'] = covid_data['mean_death0']\n",
    "covid_data['std_deaths1'] = covid_data['mean_death1']\n",
    "covid_data['std_deaths2'] = covid_data['mean_death2']"
   ]
  },
  {
   "cell_type": "code",
   "execution_count": 244,
   "metadata": {},
   "outputs": [],
   "source": [
    "features = ['school_closing', 'restrictions_on_gatherings', 'workplace_closing', 'cancel_public_events',\n",
    "            'stay_at_home_requirements','restrictions_on_internal_movement', 'international_travel_controls',\n",
    "            'income_support', 'debt/contract_relief','public_information_campaigns',\n",
    "            'testing_policy', 'contact_tracing','close_public_transport']\n",
    "\n",
    "oecd=['BEL','ISR','AUS', 'AUT', 'CAN', 'CHL', 'CZE', 'DNK', 'EST', 'FIN', 'FRA', \n",
    "        'DEU', 'GRC', 'HUN', 'ISL', 'IRL', 'ITA', 'JPN', 'KOR', 'LUX', 'MEX', 'NLD',\n",
    "        'NZL', 'NOR', 'POL', 'PRT', 'SVK', 'SVN', 'SWE', 'CHE', 'TUR', 'GBR', 'USA']"
   ]
  },
  {
   "cell_type": "markdown",
   "metadata": {},
   "source": [
    "findig minimum present_death value for each country with 'knee of the curve' for reducig standard deviation"
   ]
  },
  {
   "cell_type": "code",
   "execution_count": 245,
   "metadata": {},
   "outputs": [
    {
     "data": {
      "image/png": "[encoded data removed]",
      "text/plain": [
       "<Figure size 1440x8640 with 66 Axes>"
      ]
     },
     "metadata": {
      "needs_background": "light"
     },
     "output_type": "display_data"
    }
   ],
   "source": [
    "fig, axes = plt.subplots(33,2,figsize =(20, 120)) # create figure and axes\n",
    "for i,iso in enumerate(oecd):\n",
    "    \n",
    "    ystd = []\n",
    "    ymean = []\n",
    "    try:\n",
    "        for j in range(100):\n",
    "            dc = covid_data[covid_data['present_death'] > j ]\n",
    "            a=dc.loc[iso]['std_deaths1'].std()\n",
    "            b=dc.loc[iso]['mean_death1'].mean()\n",
    "            ystd.append(a)\n",
    "            ymean.append(b)\n",
    "    except:\n",
    "        pass\n",
    "    try:\n",
    "        x = range(j)\n",
    "        axes[i][0].scatter(x, ystd)\n",
    "    except:\n",
    "        x = range(100)\n",
    "        axes[i][0].scatter(x, ystd)\n",
    "    \n",
    "    axes[i][1].scatter(x, ymean)\n",
    "    axes[i][0].set_title(iso + ' std')\n",
    "    axes[i][1].set_title(iso + ' mean')\n",
    "plt.show()"
   ]
  },
  {
   "cell_type": "code",
   "execution_count": 246,
   "metadata": {},
   "outputs": [],
   "source": [
    "dic_std = {'SVN':1, 'LUX':2, 'CZE':1, 'FRA':22, 'NLD':13, 'DNK':3, 'NOR':1, 'BEL':13, 'DEU':13, 'AUT':3,\n",
    "       'ITA':65, 'ISR':1, 'AUS':1, 'HUN':8, 'PRT':4, 'CAN':13, 'EST':1, 'FIN':6, 'CHL':13,\n",
    "          'GRC':2, 'IRL':36, 'JPN':6, 'KOR':1, 'MEX':32, 'POL':20, 'PRT':4, 'SWE':20, 'CHE':13, 'TUR':20} "
   ]
  },
  {
   "cell_type": "code",
   "execution_count": 247,
   "metadata": {},
   "outputs": [],
   "source": [
    "df=pd.DataFrame()\n",
    "for iso in list(dic_std.keys()):\n",
    "    df = df.append(covid_data[(covid_data.index==iso) & (covid_data['present_death'] > dic_std[iso])])\n",
    "df.dropna(inplace=True)"
   ]
  },
  {
   "cell_type": "code",
   "execution_count": 248,
   "metadata": {},
   "outputs": [
    {
     "name": "stdout",
     "output_type": "stream",
     "text": [
      "<class 'pandas.core.frame.DataFrame'>\n",
      "Index: 1557 entries, SVN to TUR\n",
      "Data columns (total 46 columns):\n",
      "cancel_public_events                  1557 non-null int64\n",
      "close_public_transport                1557 non-null int64\n",
      "contact_tracing                       1557 non-null int64\n",
      "debt/contract_relief                  1557 non-null int64\n",
      "Emergency investment in healthcare    1557 non-null int64\n",
      "income_support                        1557 non-null int64\n",
      "international_travel_controls         1557 non-null int64\n",
      "public_information_campaigns          1557 non-null int64\n",
      "restrictions_on_gatherings            1557 non-null int64\n",
      "restrictions_on_internal_movement     1557 non-null int64\n",
      "school_closing                        1557 non-null int64\n",
      "stay_at_home_requirements             1557 non-null int64\n",
      "testing_policy                        1557 non-null int64\n",
      "workplace_closing                     1557 non-null int64\n",
      "aged_65_older                         1557 non-null float64\n",
      "aged_70_older                         1557 non-null float64\n",
      "blood_p                               1557 non-null float64\n",
      "date                                  1557 non-null object\n",
      "diabetes_prevalence                   1557 non-null float64\n",
      "extreme_poverty                       1557 non-null float64\n",
      "gdp_per_capita                        1557 non-null float64\n",
      "hospital_beds_per_thousand            1557 non-null float64\n",
      "life_expectancy                       1557 non-null float64\n",
      "location                              1557 non-null object\n",
      "mean_deaths_14                        1557 non-null float64\n",
      "mean_deaths_21                        1557 non-null float64\n",
      "mean_deaths_7                         1557 non-null float64\n",
      "median_age                            1557 non-null float64\n",
      "obesity                               1557 non-null float64\n",
      "population                            1557 non-null float64\n",
      "population_density                    1557 non-null float64\n",
      "present_death                         1557 non-null float64\n",
      "sars_deaths                           1557 non-null float64\n",
      "smoking_d                             1557 non-null float64\n",
      "continent_Africa                      1557 non-null uint8\n",
      "continent_Asia                        1557 non-null uint8\n",
      "continent_Europe                      1557 non-null uint8\n",
      "continent_North America               1557 non-null uint8\n",
      "continent_Oceania                     1557 non-null uint8\n",
      "continent_South America               1557 non-null uint8\n",
      "mean_death0                           1557 non-null float64\n",
      "mean_death1                           1557 non-null float64\n",
      "mean_death2                           1557 non-null float64\n",
      "std_deaths0                           1557 non-null float64\n",
      "std_deaths1                           1557 non-null float64\n",
      "std_deaths2                           1557 non-null float64\n",
      "dtypes: float64(24), int64(14), object(2), uint8(6)\n",
      "memory usage: 507.8+ KB\n"
     ]
    }
   ],
   "source": [
    "df.info()"
   ]
  },
  {
   "cell_type": "code",
   "execution_count": 249,
   "metadata": {},
   "outputs": [
    {
     "name": "stderr",
     "output_type": "stream",
     "text": [
      "C:\\anconda3\\lib\\site-packages\\ipykernel_launcher.py:1: FutureWarning: \n",
      "Passing list-likes to .loc or [] with any missing label will raise\n",
      "KeyError in the future, you can use .reindex() as an alternative.\n",
      "\n",
      "See the documentation here:\n",
      "https://pandas.pydata.org/pandas-docs/stable/user_guide/indexing.html#deprecate-loc-reindex-listlike\n",
      "  \"\"\"Entry point for launching an IPython kernel.\n"
     ]
    },
    {
     "data": {
      "text/html": [
       "<div>\n",
       "<style scoped>\n",
       "    .dataframe tbody tr th:only-of-type {\n",
       "        vertical-align: middle;\n",
       "    }\n",
       "\n",
       "    .dataframe tbody tr th {\n",
       "        vertical-align: top;\n",
       "    }\n",
       "\n",
       "    .dataframe thead th {\n",
       "        text-align: right;\n",
       "    }\n",
       "</style>\n",
       "<table border=\"1\" class=\"dataframe\">\n",
       "  <thead>\n",
       "    <tr style=\"text-align: right;\">\n",
       "      <th></th>\n",
       "      <th>mean_death1</th>\n",
       "      <th>std_deaths1</th>\n",
       "    </tr>\n",
       "    <tr>\n",
       "      <th>school_closing</th>\n",
       "      <th></th>\n",
       "      <th></th>\n",
       "    </tr>\n",
       "  </thead>\n",
       "  <tbody>\n",
       "    <tr>\n",
       "      <td>0.0</td>\n",
       "      <td>3.608454</td>\n",
       "      <td>5.397516</td>\n",
       "    </tr>\n",
       "    <tr>\n",
       "      <td>1.0</td>\n",
       "      <td>1.073472</td>\n",
       "      <td>1.240961</td>\n",
       "    </tr>\n",
       "    <tr>\n",
       "      <td>2.0</td>\n",
       "      <td>0.651609</td>\n",
       "      <td>0.921352</td>\n",
       "    </tr>\n",
       "    <tr>\n",
       "      <td>3.0</td>\n",
       "      <td>1.166391</td>\n",
       "      <td>1.310526</td>\n",
       "    </tr>\n",
       "  </tbody>\n",
       "</table>\n",
       "</div>"
      ],
      "text/plain": [
       "                mean_death1  std_deaths1\n",
       "school_closing                          \n",
       "0.0                3.608454     5.397516\n",
       "1.0                1.073472     1.240961\n",
       "2.0                0.651609     0.921352\n",
       "3.0                1.166391     1.310526"
      ]
     },
     "execution_count": 249,
     "metadata": {},
     "output_type": "execute_result"
    }
   ],
   "source": [
    "df.loc[oecd].groupby('school_closing').agg({'mean_death1':'mean', 'std_deaths1':'std'})"
   ]
  },
  {
   "cell_type": "code",
   "execution_count": 250,
   "metadata": {},
   "outputs": [
    {
     "data": {
      "text/plain": [
       "<matplotlib.axes._subplots.AxesSubplot at 0x2541ef1c848>"
      ]
     },
     "execution_count": 250,
     "metadata": {},
     "output_type": "execute_result"
    },
    {
     "data": {
      "image/png": "[encoded data removed]",
      "text/plain": [
       "<Figure size 432x288 with 1 Axes>"
      ]
     },
     "metadata": {
      "needs_background": "light"
     },
     "output_type": "display_data"
    }
   ],
   "source": [
    "sns.boxplot(data=df, x='school_closing',y='mean_death1', showmeans=True,\n",
    "            meanprops={\"marker\":\"s\",\"markerfacecolor\":\"white\", \"markeredgecolor\":\"blue\"})"
   ]
  },
  {
   "cell_type": "markdown",
   "metadata": {},
   "source": [
    "data only for Europe"
   ]
  },
  {
   "cell_type": "code",
   "execution_count": 251,
   "metadata": {},
   "outputs": [],
   "source": [
    "dff = pd.DataFrame()\n",
    "\n",
    "for i in range(len(df[df['continent_Europe']==1])):\n",
    "    if (date.fromisoformat(df[df['continent_Europe']==1].iloc[i]['date'])) > (date.fromisoformat('2020-04-01')):\n",
    "        dff=dff.append(df[df['continent_Europe']==1].iloc[i])"
   ]
  },
  {
   "cell_type": "code",
   "execution_count": 252,
   "metadata": {},
   "outputs": [
    {
     "data": {
      "text/html": [
       "<div>\n",
       "<style scoped>\n",
       "    .dataframe tbody tr th:only-of-type {\n",
       "        vertical-align: middle;\n",
       "    }\n",
       "\n",
       "    .dataframe tbody tr th {\n",
       "        vertical-align: top;\n",
       "    }\n",
       "\n",
       "    .dataframe thead th {\n",
       "        text-align: right;\n",
       "    }\n",
       "</style>\n",
       "<table border=\"1\" class=\"dataframe\">\n",
       "  <thead>\n",
       "    <tr style=\"text-align: right;\">\n",
       "      <th></th>\n",
       "      <th>mean_death1</th>\n",
       "      <th>std_deaths1</th>\n",
       "    </tr>\n",
       "    <tr>\n",
       "      <th>school_closing</th>\n",
       "      <th></th>\n",
       "      <th></th>\n",
       "    </tr>\n",
       "  </thead>\n",
       "  <tbody>\n",
       "    <tr>\n",
       "      <td>0.0</td>\n",
       "      <td>0.088889</td>\n",
       "      <td>0.031427</td>\n",
       "    </tr>\n",
       "    <tr>\n",
       "      <td>1.0</td>\n",
       "      <td>0.777953</td>\n",
       "      <td>0.282486</td>\n",
       "    </tr>\n",
       "    <tr>\n",
       "      <td>2.0</td>\n",
       "      <td>0.495332</td>\n",
       "      <td>0.199533</td>\n",
       "    </tr>\n",
       "    <tr>\n",
       "      <td>3.0</td>\n",
       "      <td>0.590588</td>\n",
       "      <td>0.221300</td>\n",
       "    </tr>\n",
       "  </tbody>\n",
       "</table>\n",
       "</div>"
      ],
      "text/plain": [
       "                mean_death1  std_deaths1\n",
       "school_closing                          \n",
       "0.0                0.088889     0.031427\n",
       "1.0                0.777953     0.282486\n",
       "2.0                0.495332     0.199533\n",
       "3.0                0.590588     0.221300"
      ]
     },
     "execution_count": 252,
     "metadata": {},
     "output_type": "execute_result"
    }
   ],
   "source": [
    "dff.groupby('school_closing').agg({'mean_death1':'mean', 'std_deaths1':'std'})"
   ]
  },
  {
   "cell_type": "code",
   "execution_count": 253,
   "metadata": {},
   "outputs": [
    {
     "data": {
      "text/plain": [
       "<matplotlib.axes._subplots.AxesSubplot at 0x2541d321c48>"
      ]
     },
     "execution_count": 253,
     "metadata": {},
     "output_type": "execute_result"
    },
    {
     "data": {
      "image/png": "[encoded data removed]",
      "text/plain": [
       "<Figure size 432x288 with 1 Axes>"
      ]
     },
     "metadata": {
      "needs_background": "light"
     },
     "output_type": "display_data"
    }
   ],
   "source": [
    "sns.boxplot(data=dff, x='school_closing',y='mean_death1', showmeans=True,\n",
    "            meanprops={\"marker\":\"s\",\"markerfacecolor\":\"white\", \"markeredgecolor\":\"blue\"})"
   ]
  },
  {
   "cell_type": "markdown",
   "metadata": {},
   "source": [
    "checking which countries have more than one non-dominant value (0,1,2,3,4) for a feature"
   ]
  },
  {
   "cell_type": "code",
   "execution_count": 254,
   "metadata": {},
   "outputs": [],
   "source": [
    "def check_iso(countries, f, s):\n",
    "    dic={}\n",
    "    for iso in countries:\n",
    "        try:\n",
    "            n = dff.loc[iso].index.size\n",
    "            for i in dff.loc[iso][f].unique():\n",
    "                s = dff[dff[f]==i].loc[iso].index.size\n",
    "                if s>(0.8*n):\n",
    "                    dic.pop(iso,None)\n",
    "                    break\n",
    "                else:\n",
    "                    dic[iso]=True\n",
    "        except:\n",
    "            pass\n",
    "    print(list(dic.keys()))\n",
    "    return (multi_features(list(dic.keys()), f, s))"
   ]
  },
  {
   "cell_type": "markdown",
   "metadata": {},
   "source": [
    "n_th root of multiplication of relative values in a policy by list of countries"
   ]
  },
  {
   "cell_type": "code",
   "execution_count": 255,
   "metadata": {},
   "outputs": [],
   "source": [
    "def multi_f_comb(countries,feature,s):\n",
    "    multi=pd.DataFrame(columns=['dev_mean','dev_std','from','to'])\n",
    "    for iso in countries:\n",
    "        if s==0:\n",
    "            a = dff.loc[iso].groupby(feature).agg({'mean_death0':'mean', 'std_deaths0':'std'})\n",
    "        if s==1:\n",
    "            a = dff.loc[iso].groupby(feature).agg({'mean_death1':'mean', 'std_deaths1':'std'})\n",
    "        if s==2:\n",
    "            a = dff.loc[iso].groupby(feature).agg({'mean_death2':'mean', 'std_deaths2':'std'})\n",
    "        try:\n",
    "            for i in range(len(a)-1):\n",
    "                for j in range(i+1,len(a)):\n",
    "                    f = a.iloc[i,0]\n",
    "                    t = a.iloc[j,0]\n",
    "                    ser = pd.Series(t/f)\n",
    "                    multi = multi.append({'dev_mean':ser,'dev_std':ser,'from':a.index[i],'to':a.index[j]},ignore_index=True)\n",
    "        except:\n",
    "            pass\n",
    "    count=multi.groupby(['from','to']).agg({'dev_mean':'count'})['dev_mean']\n",
    "    countS=[]\n",
    "    for i,v in enumerate(count):\n",
    "        countS.append(count.iloc[i])\n",
    "    return multi.groupby(['from','to']).agg({'dev_mean':(lambda value: (np.prod(value)**(1.0/countS[i]))) for i,v in enumerate(countS)})"
   ]
  },
  {
   "cell_type": "code",
   "execution_count": 256,
   "metadata": {},
   "outputs": [],
   "source": [
    "def multi_features(countries,feature,s):\n",
    "    multi=pd.DataFrame(columns=['dev_mean','dev_std','from','to'])\n",
    "    for iso in countries:\n",
    "        if s==0:\n",
    "            a = dff.loc[iso].groupby(feature).agg({'mean_death0':'mean', 'std_deaths0':'std'})\n",
    "        elif s==1:\n",
    "            a = dff.loc[iso].groupby(feature).agg({'mean_death1':'mean', 'std_deaths1':'std'})\n",
    "        else:\n",
    "            a = dff.loc[iso].groupby(feature).agg({'mean_death2':'mean', 'std_deaths2':'std'})\n",
    "        for i in range(len(a)-1):\n",
    "            for j in range(i+1,len(a)):\n",
    "                ser=pd.Series(a.iloc[j,0]/a.iloc[i,0])\n",
    "                multi = multi.append({'dev_mean':a.iloc[j,0]/a.iloc[i,0],'dev_std':(a.iloc[j,0]/a.iloc[i,0]),'from':a.index[i],'to':a.index[j]},ignore_index=True)\n",
    "\n",
    "    print(multi.groupby(['from','to']).agg({'dev_mean':'mean', 'dev_std':'std'}))"
   ]
  },
  {
   "cell_type": "code",
   "execution_count": 257,
   "metadata": {},
   "outputs": [],
   "source": [
    "def multi_features_plot(countries,feature,s):\n",
    "    multi_new = multi_f_comb(countries,feature,s)\n",
    "    maxA=max(multi_new.index.get_level_values(0))\n",
    "    sns.barplot(data=multi_new, x=multi_new.index.get_level_values(0), hue=multi_new.index.get_level_values(1), y='dev_mean')\n",
    "    plt.plot(np.linspace(1,1,maxA+1),ls='--',color='g',alpha=1,linewidth=3)\n",
    "    multi_features(countries,feature,s)"
   ]
  },
  {
   "cell_type": "code",
   "execution_count": 258,
   "metadata": {},
   "outputs": [
    {
     "name": "stdout",
     "output_type": "stream",
     "text": [
      "school_closing\n",
      "['CZE', 'FRA', 'NLD', 'DNK', 'NOR', 'DEU', 'PRT']\n",
      "          dev_mean  dev_std\n",
      "from to                    \n",
      "0.0  2.0  0.650695      NaN\n",
      "     3.0  1.450682      NaN\n",
      "2.0  3.0  1.437207  0.52076\n",
      "None\n",
      "\n",
      "restrictions_on_gatherings\n",
      "['CZE', 'FRA', 'NOR', 'AUT', 'ITA']\n",
      "          dev_mean   dev_std\n",
      "from to                     \n",
      "0.0  4.0  1.158194       NaN\n",
      "2.0  3.0  1.046942  0.895152\n",
      "     4.0  1.597994  1.211271\n",
      "3.0  4.0  1.126871  0.594770\n",
      "None\n",
      "\n",
      "workplace_closing\n",
      "['SVN', 'CZE', 'FRA', 'NLD', 'BEL', 'AUT', 'ITA', 'PRT']\n",
      "          dev_mean   dev_std\n",
      "from to                     \n",
      "1.0  2.0  0.761089  0.349815\n",
      "     3.0  0.937235  0.359955\n",
      "2.0  3.0  1.211892  0.329629\n",
      "None\n",
      "\n",
      "cancel_public_events\n",
      "[]\n",
      "\n",
      "stay_at_home_requirements\n",
      "['CZE', 'FRA', 'NLD', 'DEU', 'AUT', 'ITA', 'PRT']\n",
      "          dev_mean   dev_std\n",
      "from to                     \n",
      "0.0  1.0  0.899919  0.091566\n",
      "     2.0  0.823569  0.362615\n",
      "1.0  2.0  1.106716  0.232883\n",
      "     3.0  1.408609       NaN\n",
      "2.0  3.0  1.268194       NaN\n",
      "None\n",
      "\n",
      "restrictions_on_internal_movement\n",
      "['NOR', 'DEU', 'AUT', 'ITA']\n",
      "          dev_mean   dev_std\n",
      "from to                     \n",
      "0.0  1.0  1.692050       NaN\n",
      "     2.0  1.452582  0.638509\n",
      "1.0  2.0  1.292175  0.759267\n",
      "None\n",
      "\n",
      "international_travel_controls\n",
      "['FRA', 'BEL', 'DEU', 'ITA']\n",
      "          dev_mean   dev_std\n",
      "from to                     \n",
      "0.0  2.0  1.568907       NaN\n",
      "     3.0  1.743490       NaN\n",
      "2.0  3.0  1.111277       NaN\n",
      "3.0  4.0  0.929618  0.193956\n",
      "None\n",
      "\n",
      "income_support\n",
      "['HUN']\n",
      "          dev_mean  dev_std\n",
      "from to                    \n",
      "0.0  2.0  0.583249      NaN\n",
      "None\n",
      "\n",
      "debt/contract_relief\n",
      "['FRA', 'DNK', 'PRT']\n",
      "          dev_mean   dev_std\n",
      "from to                     \n",
      "0.0  2.0  0.716761       NaN\n",
      "1.0  2.0  1.354026  0.893397\n",
      "None\n",
      "\n",
      "public_information_campaigns\n",
      "[]\n",
      "\n",
      "testing_policy\n",
      "['FRA', 'DNK', 'BEL', 'DEU', 'EST', 'GRC', 'SWE']\n",
      "          dev_mean   dev_std\n",
      "from to                     \n",
      "0.0  2.0  1.080655       NaN\n",
      "1.0  2.0  0.946792  0.291492\n",
      "     3.0  0.903865  0.147612\n",
      "2.0  3.0  1.455385       NaN\n",
      "None\n",
      "\n",
      "contact_tracing\n",
      "['FRA', 'DNK']\n",
      "          dev_mean   dev_std\n",
      "from to                     \n",
      "1.0  2.0  1.101728  0.469586\n",
      "None\n",
      "\n",
      "close_public_transport\n",
      "['ITA']\n",
      "          dev_mean  dev_std\n",
      "from to                    \n",
      "0.0  1.0  1.391253      NaN\n",
      "     2.0  1.091529      NaN\n",
      "1.0  2.0  0.784565      NaN\n",
      "None\n",
      "\n"
     ]
    }
   ],
   "source": [
    "for f in features:\n",
    "    print(f)\n",
    "    try:\n",
    "        print(check_iso(dff.index.unique(),f,1))\n",
    "    except:\n",
    "        pass\n",
    "    print()"
   ]
  },
  {
   "cell_type": "code",
   "execution_count": 262,
   "metadata": {},
   "outputs": [
    {
     "data": {
      "text/html": [
       "<div>\n",
       "<style scoped>\n",
       "    .dataframe tbody tr th:only-of-type {\n",
       "        vertical-align: middle;\n",
       "    }\n",
       "\n",
       "    .dataframe tbody tr th {\n",
       "        vertical-align: top;\n",
       "    }\n",
       "\n",
       "    .dataframe thead th {\n",
       "        text-align: right;\n",
       "    }\n",
       "</style>\n",
       "<table border=\"1\" class=\"dataframe\">\n",
       "  <thead>\n",
       "    <tr style=\"text-align: right;\">\n",
       "      <th></th>\n",
       "      <th>mean_death0</th>\n",
       "      <th>std_deaths0</th>\n",
       "    </tr>\n",
       "    <tr>\n",
       "      <th>testing_policy</th>\n",
       "      <th></th>\n",
       "      <th></th>\n",
       "    </tr>\n",
       "  </thead>\n",
       "  <tbody>\n",
       "    <tr>\n",
       "      <td>1.0</td>\n",
       "      <td>0.893103</td>\n",
       "      <td>0.189712</td>\n",
       "    </tr>\n",
       "    <tr>\n",
       "      <td>3.0</td>\n",
       "      <td>0.717170</td>\n",
       "      <td>0.106796</td>\n",
       "    </tr>\n",
       "  </tbody>\n",
       "</table>\n",
       "</div>"
      ],
      "text/plain": [
       "                mean_death0  std_deaths0\n",
       "testing_policy                          \n",
       "1.0                0.893103     0.189712\n",
       "3.0                0.717170     0.106796"
      ]
     },
     "execution_count": 262,
     "metadata": {},
     "output_type": "execute_result"
    }
   ],
   "source": [
    "dff.loc['DEU'].groupby('testing_policy').agg({'mean_death0':'mean', 'std_deaths0':'std'})"
   ]
  },
  {
   "cell_type": "markdown",
   "metadata": {},
   "source": [
    "Graphs - the thresholds is 1.0 and mraked with green line, if column is below it - the transition between the stringencies in a restriction will have a positive effect on the mortality and will bring the number of death cases down"
   ]
  },
  {
   "cell_type": "code",
   "execution_count": 263,
   "metadata": {},
   "outputs": [
    {
     "name": "stdout",
     "output_type": "stream",
     "text": [
      "          dev_mean  dev_std\n",
      "from to                    \n",
      "0.0  2.0  0.650695      NaN\n",
      "     3.0  1.450682      NaN\n",
      "2.0  3.0  1.437207  0.52076\n"
     ]
    },
    {
     "name": "stderr",
     "output_type": "stream",
     "text": [
      "C:\\anconda3\\lib\\site-packages\\ipykernel_launcher.py:5: DeprecationWarning: object of type <class 'float'> cannot be safely interpreted as an integer.\n",
      "  \"\"\"\n"
     ]
    },
    {
     "data": {
      "image/png": "[encoded data removed]",
      "text/plain": [
       "<Figure size 432x288 with 1 Axes>"
      ]
     },
     "metadata": {
      "needs_background": "light"
     },
     "output_type": "display_data"
    }
   ],
   "source": [
    "multi_features_plot(['CZE', 'FRA', 'NLD', 'DNK', 'NOR', 'DEU', 'PRT'], 'school_closing',2)\n"
   ]
  },
  {
   "cell_type": "code",
   "execution_count": 264,
   "metadata": {},
   "outputs": [
    {
     "name": "stderr",
     "output_type": "stream",
     "text": [
      "C:\\anconda3\\lib\\site-packages\\ipykernel_launcher.py:5: DeprecationWarning: object of type <class 'float'> cannot be safely interpreted as an integer.\n",
      "  \"\"\"\n"
     ]
    },
    {
     "name": "stdout",
     "output_type": "stream",
     "text": [
      "          dev_mean   dev_std\n",
      "from to                     \n",
      "0.0  4.0  0.953944       NaN\n",
      "2.0  3.0  0.699875  0.743470\n",
      "     4.0  1.507589  0.731896\n",
      "3.0  4.0  2.469184  2.179124\n"
     ]
    },
    {
     "data": {
      "image/png": "[encoded data removed]",
      "text/plain": [
       "<Figure size 432x288 with 1 Axes>"
      ]
     },
     "metadata": {
      "needs_background": "light"
     },
     "output_type": "display_data"
    }
   ],
   "source": [
    "multi_features_plot(['CZE', 'FRA', 'NOR', 'AUT', 'ITA'], 'restrictions_on_gatherings',1)\n"
   ]
  },
  {
   "cell_type": "code",
   "execution_count": 265,
   "metadata": {},
   "outputs": [
    {
     "name": "stdout",
     "output_type": "stream",
     "text": [
      "          dev_mean   dev_std\n",
      "from to                     \n",
      "1.0  2.0  0.761089  0.349815\n",
      "     3.0  0.937235  0.359955\n",
      "2.0  3.0  1.211892  0.329629\n"
     ]
    },
    {
     "name": "stderr",
     "output_type": "stream",
     "text": [
      "C:\\anconda3\\lib\\site-packages\\ipykernel_launcher.py:5: DeprecationWarning: object of type <class 'float'> cannot be safely interpreted as an integer.\n",
      "  \"\"\"\n"
     ]
    },
    {
     "data": {
      "image/png": "[encoded data removed]",
      "text/plain": [
       "<Figure size 432x288 with 1 Axes>"
      ]
     },
     "metadata": {
      "needs_background": "light"
     },
     "output_type": "display_data"
    }
   ],
   "source": [
    "multi_features_plot(['SVN', 'CZE', 'FRA', 'NLD', 'BEL', 'AUT', 'ITA', 'PRT'], 'workplace_closing',2)"
   ]
  },
  {
   "cell_type": "code",
   "execution_count": 273,
   "metadata": {},
   "outputs": [
    {
     "name": "stderr",
     "output_type": "stream",
     "text": [
      "C:\\anconda3\\lib\\site-packages\\ipykernel_launcher.py:5: DeprecationWarning: object of type <class 'float'> cannot be safely interpreted as an integer.\n",
      "  \"\"\"\n"
     ]
    },
    {
     "name": "stdout",
     "output_type": "stream",
     "text": [
      "          dev_mean   dev_std\n",
      "from to                     \n",
      "0.0  1.0  2.635682  2.272671\n",
      "     2.0  2.083710  1.703522\n",
      "1.0  2.0  1.048704  0.152499\n",
      "     3.0  1.312424       NaN\n",
      "2.0  3.0  1.258467       NaN\n"
     ]
    },
    {
     "data": {
      "image/png": "[encoded data removed]",
      "text/plain": [
       "<Figure size 432x288 with 1 Axes>"
      ]
     },
     "metadata": {
      "needs_background": "light"
     },
     "output_type": "display_data"
    }
   ],
   "source": [
    "multi_features_plot(['CZE', 'FRA', 'NLD', 'DEU', 'AUT', 'ITA', 'PRT'], 'stay_at_home_requirements',1)"
   ]
  },
  {
   "cell_type": "code",
   "execution_count": 266,
   "metadata": {},
   "outputs": [
    {
     "name": "stderr",
     "output_type": "stream",
     "text": [
      "C:\\anconda3\\lib\\site-packages\\ipykernel_launcher.py:5: DeprecationWarning: object of type <class 'float'> cannot be safely interpreted as an integer.\n",
      "  \"\"\"\n"
     ]
    },
    {
     "name": "stdout",
     "output_type": "stream",
     "text": [
      "          dev_mean   dev_std\n",
      "from to                     \n",
      "0.0  1.0  0.899919  0.091566\n",
      "     2.0  0.823569  0.362615\n",
      "1.0  2.0  1.106716  0.232883\n",
      "     3.0  1.408609       NaN\n",
      "2.0  3.0  1.268194       NaN\n"
     ]
    },
    {
     "data": {
      "image/png": "[encoded data removed]",
      "text/plain": [
       "<Figure size 432x288 with 1 Axes>"
      ]
     },
     "metadata": {
      "needs_background": "light"
     },
     "output_type": "display_data"
    }
   ],
   "source": [
    "multi_features_plot(['CZE', 'FRA', 'NLD', 'DEU', 'AUT', 'ITA', 'PRT'], 'stay_at_home_requirements',2)"
   ]
  },
  {
   "cell_type": "code",
   "execution_count": 267,
   "metadata": {},
   "outputs": [
    {
     "name": "stderr",
     "output_type": "stream",
     "text": [
      "C:\\anconda3\\lib\\site-packages\\ipykernel_launcher.py:5: DeprecationWarning: object of type <class 'float'> cannot be safely interpreted as an integer.\n",
      "  \"\"\"\n"
     ]
    },
    {
     "name": "stdout",
     "output_type": "stream",
     "text": [
      "          dev_mean   dev_std\n",
      "from to                     \n",
      "0.0  2.0  0.648299       NaN\n",
      "1.0  2.0  0.865738  0.224066\n",
      "     3.0  0.854736  0.145460\n",
      "2.0  3.0  1.570098       NaN\n"
     ]
    },
    {
     "data": {
      "image/png": "[encoded data removed]",
      "text/plain": [
       "<Figure size 432x288 with 1 Axes>"
      ]
     },
     "metadata": {
      "needs_background": "light"
     },
     "output_type": "display_data"
    }
   ],
   "source": [
    "multi_features_plot(['FRA', 'DNK', 'BEL', 'DEU', 'EST', 'GRC', 'SWE'], 'testing_policy',1)"
   ]
  },
  {
   "cell_type": "code",
   "execution_count": 268,
   "metadata": {},
   "outputs": [
    {
     "name": "stderr",
     "output_type": "stream",
     "text": [
      "C:\\anconda3\\lib\\site-packages\\ipykernel_launcher.py:5: DeprecationWarning: object of type <class 'float'> cannot be safely interpreted as an integer.\n",
      "  \"\"\"\n"
     ]
    },
    {
     "name": "stdout",
     "output_type": "stream",
     "text": [
      "          dev_mean   dev_std\n",
      "from to                     \n",
      "0.0  1.0  1.692050       NaN\n",
      "     2.0  1.452582  0.638509\n",
      "1.0  2.0  1.292175  0.759267\n"
     ]
    },
    {
     "data": {
      "image/png": "[encoded data removed]",
      "text/plain": [
       "<Figure size 432x288 with 1 Axes>"
      ]
     },
     "metadata": {
      "needs_background": "light"
     },
     "output_type": "display_data"
    }
   ],
   "source": [
    "multi_features_plot(['NOR', 'DEU', 'AUT', 'ITA'], 'restrictions_on_internal_movement',2)"
   ]
  },
  {
   "cell_type": "code",
   "execution_count": 269,
   "metadata": {},
   "outputs": [
    {
     "name": "stdout",
     "output_type": "stream",
     "text": [
      "          dev_mean   dev_std\n",
      "from to                     \n",
      "0.0  2.0  1.568907       NaN\n",
      "     3.0  1.743490       NaN\n",
      "2.0  3.0  1.111277       NaN\n",
      "3.0  4.0  0.929618  0.193956\n"
     ]
    },
    {
     "name": "stderr",
     "output_type": "stream",
     "text": [
      "C:\\anconda3\\lib\\site-packages\\ipykernel_launcher.py:5: DeprecationWarning: object of type <class 'float'> cannot be safely interpreted as an integer.\n",
      "  \"\"\"\n"
     ]
    },
    {
     "data": {
      "image/png": "[encoded data removed]",
      "text/plain": [
       "<Figure size 432x288 with 1 Axes>"
      ]
     },
     "metadata": {
      "needs_background": "light"
     },
     "output_type": "display_data"
    }
   ],
   "source": [
    "multi_features_plot(['FRA', 'BEL', 'DEU', 'ITA'], 'international_travel_controls',2)"
   ]
  },
  {
   "cell_type": "code",
   "execution_count": 270,
   "metadata": {},
   "outputs": [
    {
     "name": "stderr",
     "output_type": "stream",
     "text": [
      "C:\\anconda3\\lib\\site-packages\\ipykernel_launcher.py:5: DeprecationWarning: object of type <class 'float'> cannot be safely interpreted as an integer.\n",
      "  \"\"\"\n"
     ]
    },
    {
     "name": "stdout",
     "output_type": "stream",
     "text": [
      "          dev_mean   dev_std\n",
      "from to                     \n",
      "0.0  2.0  0.850271       NaN\n",
      "1.0  2.0  1.103827  0.233452\n"
     ]
    },
    {
     "data": {
      "image/png": "[encoded data removed]",
      "text/plain": [
       "<Figure size 432x288 with 1 Axes>"
      ]
     },
     "metadata": {
      "needs_background": "light"
     },
     "output_type": "display_data"
    }
   ],
   "source": [
    "multi_features_plot(['FRA', 'DNK', 'PRT'], 'debt/contract_relief',0)"
   ]
  },
  {
   "cell_type": "code",
   "execution_count": 271,
   "metadata": {},
   "outputs": [
    {
     "name": "stdout",
     "output_type": "stream",
     "text": [
      "          dev_mean  dev_std\n",
      "from to                    \n",
      "0.0  2.0  0.666104      NaN\n"
     ]
    },
    {
     "name": "stderr",
     "output_type": "stream",
     "text": [
      "C:\\anconda3\\lib\\site-packages\\ipykernel_launcher.py:5: DeprecationWarning: object of type <class 'float'> cannot be safely interpreted as an integer.\n",
      "  \"\"\"\n"
     ]
    },
    {
     "data": {
      "image/png": "[encoded data removed]",
      "text/plain": [
       "<Figure size 432x288 with 1 Axes>"
      ]
     },
     "metadata": {
      "needs_background": "light"
     },
     "output_type": "display_data"
    }
   ],
   "source": [
    "multi_features_plot(['HUN'], 'income_support',1)"
   ]
  },
  {
   "cell_type": "code",
   "execution_count": 272,
   "metadata": {},
   "outputs": [
    {
     "name": "stderr",
     "output_type": "stream",
     "text": [
      "C:\\anconda3\\lib\\site-packages\\ipykernel_launcher.py:5: DeprecationWarning: object of type <class 'float'> cannot be safely interpreted as an integer.\n",
      "  \"\"\"\n"
     ]
    },
    {
     "name": "stdout",
     "output_type": "stream",
     "text": [
      "          dev_mean  dev_std\n",
      "from to                    \n",
      "0.0  1.0  1.391253      NaN\n",
      "     2.0  1.091529      NaN\n",
      "1.0  2.0  0.784565      NaN\n"
     ]
    },
    {
     "data": {
      "image/png": "[encoded data removed]",
      "text/plain": [
       "<Figure size 432x288 with 1 Axes>"
      ]
     },
     "metadata": {
      "needs_background": "light"
     },
     "output_type": "display_data"
    }
   ],
   "source": [
    "multi_features_plot(['ITA'], 'close_public_transport',2)"
   ]
  }
 ],
 "metadata": {
  "kernelspec": {
   "display_name": "Python 3",
   "language": "python",
   "name": "python3"
  },
  "language_info": {
   "codemirror_mode": {
    "name": "ipython",
    "version": 3
   },
   "file_extension": ".py",
   "mimetype": "text/x-python",
   "name": "python",
   "nbconvert_exporter": "python",
   "pygments_lexer": "ipython3",
   "version": "3.7.4"
  }
 },
 "nbformat": 4,
 "nbformat_minor": 2
}
